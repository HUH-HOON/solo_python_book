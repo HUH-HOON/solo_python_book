{
 "cells": [
  {
   "cell_type": "markdown",
   "id": "d756127b",
   "metadata": {},
   "source": [
    "# 3-1 불 자료형과 if 조건문"
   ]
  },
  {
   "cell_type": "code",
   "execution_count": 1,
   "id": "33515dc4",
   "metadata": {},
   "outputs": [
    {
     "name": "stdout",
     "output_type": "stream",
     "text": [
      "True\n",
      "True\n",
      "True\n",
      "True\n"
     ]
    }
   ],
   "source": [
    "score = 100\n",
    "\n",
    "print(score > 0)\n",
    "print(score >=0)\n",
    "print(score == 100)\n",
    "print(score >= 100 and score >= 0)\n"
   ]
  },
  {
   "cell_type": "code",
   "execution_count": 2,
   "id": "055ce22a",
   "metadata": {},
   "outputs": [
    {
     "name": "stdout",
     "output_type": "stream",
     "text": [
      "정수 입력>5\n",
      "양수입니다.\n"
     ]
    }
   ],
   "source": [
    "number = input(\"정수 입력>\")\n",
    "number = int(number)\n",
    "\n",
    "\n",
    "if number > 0 :\n",
    "    print(\"양수입니다.\")\n",
    "\n",
    "if number < 0 :\n",
    "    print(\"음수입니다.\")\n",
    "    \n",
    "if number == 0 :\n",
    "    print(\"0 입니다.\")"
   ]
  },
  {
   "cell_type": "code",
   "execution_count": 3,
   "id": "d856bd55",
   "metadata": {},
   "outputs": [],
   "source": [
    "import datetime"
   ]
  },
  {
   "cell_type": "code",
   "execution_count": 4,
   "id": "d474863e",
   "metadata": {},
   "outputs": [
    {
     "name": "stdout",
     "output_type": "stream",
     "text": [
      "현재 시각은 15시로 오후입니다.\n"
     ]
    }
   ],
   "source": [
    "now =datetime.datetime.now()\n",
    "\n",
    "if now.hour < 12:\n",
    "    print(\"현재 시각은 {}시로 오전입니다.\".format(now.hour))\n",
    "    \n",
    "if now.hour >= 12:\n",
    "    print(\"현재 시각은 {}시로 오후입니다.\".format(now.hour))"
   ]
  },
  {
   "cell_type": "code",
   "execution_count": 5,
   "id": "c23b6ea7",
   "metadata": {},
   "outputs": [
    {
     "name": "stdout",
     "output_type": "stream",
     "text": [
      "이번 달은 6월로 여름입니다.\n"
     ]
    }
   ],
   "source": [
    "now =datetime.datetime.now()\n",
    "\n",
    "if 3 <= now.month <=5:\n",
    "    print(\"이번 달은 {}월로 봄입니다.\".format(now.month))\n",
    "    \n",
    "elif 6<= now.month <=8:\n",
    "     print(\"이번 달은 {}월로 여름입니다.\".format(now.month))\n",
    "        \n",
    "elif 9<= now.month <=11:\n",
    "     print(\"이번 달은 {}월로 가을입니다.\".format(now.month))\n",
    "        \n",
    "elif 12<= now.month <=2:\n",
    "     print(\"이번 달은 {}월로 겨울입니다.\".format(now.month))"
   ]
  },
  {
   "cell_type": "code",
   "execution_count": 6,
   "id": "5446f77d",
   "metadata": {},
   "outputs": [
    {
     "name": "stdout",
     "output_type": "stream",
     "text": [
      "정수 입력 >3\n",
      "홀수입니다.\n"
     ]
    }
   ],
   "source": [
    "num = int(input(\"정수 입력 >\"))\n",
    "\n",
    "if num % 2 == 0:\n",
    "    print(\"짝수입니다.\")\n",
    "    \n",
    "else :\n",
    "    print(\"홀수입니다.\")"
   ]
  },
  {
   "cell_type": "code",
   "execution_count": 7,
   "id": "12664fb8",
   "metadata": {},
   "outputs": [
    {
     "name": "stdout",
     "output_type": "stream",
     "text": [
      "거짓\n"
     ]
    }
   ],
   "source": [
    "if 0 :\n",
    "    print(\"참\")\n",
    "else :\n",
    "    print(\"거짓\")"
   ]
  },
  {
   "cell_type": "code",
   "execution_count": 8,
   "id": "2cd307a6",
   "metadata": {},
   "outputs": [
    {
     "name": "stdout",
     "output_type": "stream",
     "text": [
      "참\n"
     ]
    }
   ],
   "source": [
    "if 2 :\n",
    "    print(\"참\")\n",
    "else :\n",
    "    print(\"거짓\")"
   ]
  },
  {
   "cell_type": "code",
   "execution_count": 9,
   "id": "43fb2416",
   "metadata": {},
   "outputs": [
    {
     "name": "stdout",
     "output_type": "stream",
     "text": [
      "거짓\n"
     ]
    }
   ],
   "source": [
    "if \"\" :\n",
    "    print(\"참\")\n",
    "else :\n",
    "    print(\"거짓\")"
   ]
  },
  {
   "cell_type": "code",
   "execution_count": 10,
   "id": "603c33f7",
   "metadata": {},
   "outputs": [
    {
     "name": "stdout",
     "output_type": "stream",
     "text": [
      "10~20사이의 숫자를 입력하세요. :12\n",
      "조건에 맞습니다.\n"
     ]
    }
   ],
   "source": [
    "a= int(input(\"10~20사이의 숫자를 입력하세요. :\"))\n",
    "\n",
    "if a >=10 and a<= 20 :\n",
    "    print(\"조건에 맞습니다.\")"
   ]
  }
 ],
 "metadata": {
  "kernelspec": {
   "display_name": "Python 3",
   "language": "python",
   "name": "python3"
  },
  "language_info": {
   "codemirror_mode": {
    "name": "ipython",
    "version": 3
   },
   "file_extension": ".py",
   "mimetype": "text/x-python",
   "name": "python",
   "nbconvert_exporter": "python",
   "pygments_lexer": "ipython3",
   "version": "3.8.8"
  }
 },
 "nbformat": 4,
 "nbformat_minor": 5
}
