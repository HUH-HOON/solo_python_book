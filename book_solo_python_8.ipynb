{
 "cells": [
  {
   "cell_type": "code",
   "execution_count": null,
   "id": "267bfb7b",
   "metadata": {},
   "outputs": [],
   "source": [
    "class Car():\n",
    "    pass"
   ]
  },
  {
   "cell_type": "code",
   "execution_count": null,
   "id": "fa86eda2",
   "metadata": {},
   "outputs": [],
   "source": [
    "c1 = Car()\n",
    "c2 = Car()"
   ]
  },
  {
   "cell_type": "code",
   "execution_count": null,
   "id": "cf4abe97",
   "metadata": {},
   "outputs": [],
   "source": [
    "c1.carid = 1\n",
    "c1.carOwnerName = \"홍길동\"\n",
    "c2.carid = 2\n",
    "c2.carOwnerName = \"허훈\""
   ]
  },
  {
   "cell_type": "code",
   "execution_count": null,
   "id": "516aca14",
   "metadata": {},
   "outputs": [],
   "source": [
    "print(c1.carid, c1.carOwnerName, c2.carid, c2.carOwnerName)"
   ]
  },
  {
   "cell_type": "markdown",
   "id": "6b28da4c",
   "metadata": {},
   "source": [
    "### 생정자"
   ]
  },
  {
   "cell_type": "code",
   "execution_count": null,
   "id": "14995529",
   "metadata": {},
   "outputs": [],
   "source": [
    "class Car():\n",
    "    #객체가 만들어지자마자 해야할 일을 구현.(보통 객체변수 초기화)\n",
    "    def __init__(self, id, ownername) : # 생성자, 객체가 생성될때 단한번 자동호출.\n",
    "        self.carid = id\n",
    "        self.carOwnerName = ownername"
   ]
  },
  {
   "cell_type": "code",
   "execution_count": null,
   "id": "f1521f05",
   "metadata": {},
   "outputs": [],
   "source": [
    "c1 = Car(1, \"lee\") # 생성자가 있고, 생성자가 매개변수가 있으면 그 인자를 넘겨야함.\n",
    "print(c1.carid, c1.carOwnerName)"
   ]
  },
  {
   "cell_type": "code",
   "execution_count": null,
   "id": "6b94fbbc",
   "metadata": {},
   "outputs": [],
   "source": [
    "c2 = Car(3, \"kim\")\n",
    "print(c2.carid, c2.carOwnerName)"
   ]
  },
  {
   "cell_type": "markdown",
   "id": "7f7eecb9",
   "metadata": {},
   "source": [
    "멤버 변수\n",
    "\n",
    "\n",
    "\n",
    "인스턴스 변수\n",
    "객체(인스턴스)별로 존재하는\n",
    "\n",
    "클래스 변수\n",
    "같은 클래스의 객체들이 공유하는 변수"
   ]
  },
  {
   "cell_type": "markdown",
   "id": "ac8b90c1",
   "metadata": {},
   "source": [
    "### 클래스 변수"
   ]
  },
  {
   "cell_type": "code",
   "execution_count": null,
   "id": "f2be9e8f",
   "metadata": {},
   "outputs": [],
   "source": [
    "class Car():\n",
    "    cnt = 0 #클래스 변수"
   ]
  },
  {
   "cell_type": "code",
   "execution_count": null,
   "id": "eab62ba0",
   "metadata": {},
   "outputs": [],
   "source": [
    "c1 = Car()\n",
    "c2 = Car()\n",
    "\n",
    "print(Car.cnt, c1.cnt, c2.cnt)"
   ]
  },
  {
   "cell_type": "code",
   "execution_count": null,
   "id": "138a4780",
   "metadata": {},
   "outputs": [],
   "source": [
    "Car.cnt = 1\n",
    "\n",
    "print(Car.cnt, c1.cnt, c2.cnt)"
   ]
  },
  {
   "cell_type": "code",
   "execution_count": null,
   "id": "f09e0d7f",
   "metadata": {},
   "outputs": [],
   "source": [
    "c1.cnt = 2\n",
    "c2.cnt = 3\n",
    "\n",
    "print(Car.cnt, c1.cnt, c2.cnt)"
   ]
  },
  {
   "cell_type": "markdown",
   "id": "778c6d8b",
   "metadata": {},
   "source": [
    "Movie 클래스 생성\n",
    "생성자, 매개인자, (제목, 태그리스트)\n",
    "\n",
    "movie 객체 두개 생성 (미나리, 스위트홈)"
   ]
  },
  {
   "cell_type": "code",
   "execution_count": null,
   "id": "d1db6fe0",
   "metadata": {},
   "outputs": [],
   "source": [
    "class Movie():\n",
    "    title = {}\n",
    "    tags = {}\n",
    "    \n",
    "movie1 = Movie()\n",
    "movie2 = Movie()\n",
    "\n",
    "movie1.title = '미나리'\n",
    "movie2.title = '스위트홈'\n",
    "\n",
    "movie1.tags = \"한국\", \"드라마\", \"미국\", \"1990년대\", \"시골\", \"가족\", \"감동\"\n",
    "movie2.tags = \"공포\", \"괴물\", \"한국\", \"아파트\", \"도시\", \"현대\", \"가족\"\n",
    "\n",
    "print()"
   ]
  },
  {
   "cell_type": "code",
   "execution_count": null,
   "id": "0e7d24b9",
   "metadata": {},
   "outputs": [],
   "source": [
    "class Movie():\n",
    "    def __init__(self,title,tags):\n",
    "        self.title=title\n",
    "        self.tags = tags\n",
    "        print(\"생성자 실행됨\")"
   ]
  },
  {
   "cell_type": "code",
   "execution_count": null,
   "id": "fa1a152b",
   "metadata": {},
   "outputs": [],
   "source": [
    "m1 = Movie(\"미나리\", [\"가족,한국,미국\"])\n",
    "m2 = Movie(\"스위트홈\", [\"한국\",\"공포\",\"좀비\"])"
   ]
  },
  {
   "cell_type": "markdown",
   "id": "4a3de575",
   "metadata": {},
   "source": [
    "### 메소드 (클래스안의 함수)"
   ]
  },
  {
   "cell_type": "code",
   "execution_count": null,
   "id": "e97f58b7",
   "metadata": {},
   "outputs": [],
   "source": [
    "class Car():\n",
    "    def __init__(self, id, ownerName):\n",
    "        self.carid = id\n",
    "        self.carOwnerName = ownerName\n",
    "    def printinfo(self) :\n",
    "        print(self.carid, self.ownerName)\n",
    "    def run(self, speed) :\n",
    "        self.currentSpeed = speed\n",
    "        print(\"%d번 자동차가 %d의 속도로 달립니다\" %(self.carid,speed))"
   ]
  },
  {
   "cell_type": "code",
   "execution_count": null,
   "id": "ce44a227",
   "metadata": {},
   "outputs": [],
   "source": [
    "c1 = Car(1,\"lee\")\n",
    "c1.run(1111)"
   ]
  },
  {
   "cell_type": "code",
   "execution_count": null,
   "id": "70c4d51f",
   "metadata": {},
   "outputs": [],
   "source": [
    "global_number = 0\n",
    "inp = int(input('원하는 값을 넣어주세요 : ' ))\n",
    "class calculator:\n",
    "    # 더하기\n",
    "    def add(self, inp):\n",
    "        global global_number\n",
    "        global_number = global_number + inp\n",
    "        return global_number\n",
    "    # 빼기\n",
    "    def sub(self, inp):\n",
    "        global global_number\n",
    "        global_number = global_number - inp\n",
    "        \n",
    "    # 곱하기\n",
    "    def mul(self, inp):\n",
    "        global global_number\n",
    "        global_number = global_number * inp\n",
    "        \n",
    "    # 나누기\n",
    "    def div(self, inp):\n",
    "        global global_number\n",
    "        global_number = global_number / inp\n",
    "        \n",
    "    # 초기화\n",
    "    def toZero(self):\n",
    "        global global_number\n",
    "        global_number = 0\n",
    "        \n",
    "cal = calculator()\n",
    "cal.add(inp)\n",
    "print(global_number)"
   ]
  },
  {
   "cell_type": "markdown",
   "id": "9e06f819",
   "metadata": {},
   "source": [
    "<클래스 만들기 문제 >\n",
    "====================================== \n",
    "클래스이름 : calculator\n",
    "속성(변수) : 결과 저장할 변수 result. 초기값 0.0 \n",
    "             계산기 이름을 저장할 name.    \n",
    "  \n",
    "동작(함수) : \n",
    "  1) 함수이름 : add   \n",
    "     매개인자 몇 개 든 다 받을수 있다.      \n",
    "     처리 내용: 계산기객체의 result값을 매개인자로 더한후,result에저장\n",
    "  2) 함수이름 : subtract \n",
    "     매개인자 한 개       \n",
    "     처리 내용: 계산기객체의 result값을 매개인자로 뺀 후, result에저장 \n",
    "  3) 함수이름 : multiply\n",
    "     매개인자 한 개       \n",
    "     처리 내용: 계산기객체의 result값을 매개인자로 곱한후,result에저장\n",
    "  4) 함수이름 : divide\n",
    "     매개인자 한 개       \n",
    "     처리 내용: 계산기객체의 result값을 매개인자로 나누어 result에저장\n",
    "\n",
    "name이 \"똑똑한계산기\"인 calculator 객체를 하나 생성한다. \n",
    "계산기 객체의 함수들을 이용하여, 5를 더하고 10을 곱하고 2를 빼고, \n",
    "3으로 나눈 후, \n",
    "결과를 출력하세요."
   ]
  },
  {
   "cell_type": "code",
   "execution_count": null,
   "id": "8d3d5052",
   "metadata": {},
   "outputs": [],
   "source": [
    "class calculator() :\n",
    "    def __init__(self, name):\n",
    "        self.result = 0.0\n",
    "        self.name = name\n",
    "    def add(self, *num) :\n",
    "        for n in num :\n",
    "            self.result = self.result + n\n",
    "    def subtract(self, num) :\n",
    "            self.result = self.result - num\n",
    "    def multiply(self, num) :\n",
    "            self.result = self.result * num\n",
    "    def divide(self, num) :\n",
    "            self.result = self.result / num"
   ]
  },
  {
   "cell_type": "markdown",
   "id": "b6a20e73",
   "metadata": {},
   "source": [
    " *num = 튜플로 진행해서 바로 5가 나옴.\n",
    " "
   ]
  },
  {
   "cell_type": "code",
   "execution_count": null,
   "id": "dc02176c",
   "metadata": {},
   "outputs": [],
   "source": [
    "c1=calculator(\"똑똑한계산기\")\n",
    "c1.add(5)\n",
    "c1.multiply(10)\n",
    "c1.subtract(2)\n",
    "c1.divide(3)\n",
    "print(c1.result)"
   ]
  },
  {
   "cell_type": "markdown",
   "id": "2d30d6b9",
   "metadata": {},
   "source": [
    "### 클래스 상속"
   ]
  },
  {
   "cell_type": "code",
   "execution_count": null,
   "id": "494d03cd",
   "metadata": {},
   "outputs": [],
   "source": [
    "class Car():\n",
    "    def __init__(self, id, ownerName):\n",
    "        self.carid = id\n",
    "        self.carOwnerName = ownerName\n",
    "    def printinfo(self) :\n",
    "        print(self.carid, self.carOwnerName)\n",
    "    def run(self, speed) :\n",
    "        self.currentSpeed = speed\n",
    "        print(\"%d번 자동차가 %d의 속도로 달립니다\" %(self.carid,speed))"
   ]
  },
  {
   "cell_type": "code",
   "execution_count": null,
   "id": "97111975",
   "metadata": {},
   "outputs": [],
   "source": [
    "class Sonata(Car) :\n",
    "    def run(self, speed):\n",
    "        self.currentSpeed = speed\n",
    "        print(\"%번 소나타 자동차가 %의 속도로 달립니다.\" % (self.carid,speed))\n",
    "        \n",
    "class Jeep(Car) :\n",
    "    def run(self, speed):\n",
    "        self.currentSpeed = speed\n",
    "        print(\"%번 지프 자동차가 %의 속도로 달립니다.\" % (self.carid, speed))\n",
    "        \n",
    "    def autoPark(self, carid):\n",
    "        print('%번 지프 자동차가 자동 주차 합니다.' % self.carid)\n",
    "        \n",
    "c1 = Sonata(1,\"lee\")\n",
    "c2 = Jeep(2,\"smith\")\n",
    "\n",
    "c1.printinfo()\n",
    "c1.run(100)\n",
    "\n",
    "c2.printinfo()\n",
    "c2.run(100)\n",
    "\n",
    "c2.autoPark()"
   ]
  },
  {
   "cell_type": "code",
   "execution_count": 1,
   "id": "228b793e",
   "metadata": {},
   "outputs": [],
   "source": [
    "class Car() :\n",
    "    def __init__(self, id, ownername  ) :\n",
    "        self.carId = id \n",
    "        self.carOwnerName = ownername  \n",
    "    def __str__ (self) :\n",
    "        return \"객체를 문자열 바꿀때 쓰고싶은 문자열 \" + str( self.carId )\n",
    "    def printInfo(self) : \n",
    "        print(self.carId, self.carOwnerName)      \n",
    "    def run(self, speed) :  \n",
    "        self.currentSpeed = speed \n",
    "        print(\" %d 번의 자동차가 %d의 속도로 달립니다.\" % (self.carId, speed ))"
   ]
  },
  {
   "cell_type": "code",
   "execution_count": 2,
   "id": "5314e67d",
   "metadata": {},
   "outputs": [],
   "source": [
    "class Sonata(Car) :   \n",
    "     def run(self, speed) :  \n",
    "        self.currentSpeed = speed \n",
    "        print(\" %d 번의 소나타 자동차가 %d의 속도로 달립니다.\" % (self.carId, speed ))"
   ]
  },
  {
   "cell_type": "code",
   "execution_count": 3,
   "id": "bc9a8a03",
   "metadata": {},
   "outputs": [],
   "source": [
    "class Jeep(Car) : \n",
    "    def run(self, speed) : \n",
    "        self.currentSpeed = speed \n",
    "        print(\" %d 번의 지프 자동차가 %d의 속도로 달립니다.\" % (self.carId, speed ))\n",
    "    def autoPark(self ) : \n",
    "        print(\" %d 번의 지프 자동차가 자동 주차합니다.\" % (self.carId  ))"
   ]
  },
  {
   "cell_type": "code",
   "execution_count": 4,
   "id": "8e1df510",
   "metadata": {},
   "outputs": [
    {
     "name": "stdout",
     "output_type": "stream",
     "text": [
      "1 lee\n",
      " 1 번의 소나타 자동차가 1111의 속도로 달립니다.\n",
      "2 kim\n",
      " 2 번의 지프 자동차가 22222의 속도로 달립니다.\n",
      " 2 번의 지프 자동차가 자동 주차합니다.\n"
     ]
    }
   ],
   "source": [
    "c1 = Sonata (1,\"lee\" ) \n",
    "c2 = Jeep (2,\"kim\" )  \n",
    "\n",
    "c1.printInfo()\n",
    "c1.run(1111) \n",
    "c2.printInfo() \n",
    "c2.run(22222)\n",
    "c2.autoPark()"
   ]
  },
  {
   "cell_type": "code",
   "execution_count": 5,
   "id": "cbb18782",
   "metadata": {},
   "outputs": [
    {
     "name": "stdout",
     "output_type": "stream",
     "text": [
      " 1 번의 소나타 자동차가 100의 속도로 달립니다.\n",
      " 2 번의 지프 자동차가 100의 속도로 달립니다.\n"
     ]
    }
   ],
   "source": [
    "def drive(c) :\n",
    "    c.run(100) \n",
    "    \n",
    "drive(c1)\n",
    "drive(c2)"
   ]
  },
  {
   "cell_type": "code",
   "execution_count": null,
   "id": "7bf71306",
   "metadata": {},
   "outputs": [],
   "source": []
  }
 ],
 "metadata": {
  "kernelspec": {
   "display_name": "Python 3",
   "language": "python",
   "name": "python3"
  },
  "language_info": {
   "codemirror_mode": {
    "name": "ipython",
    "version": 3
   },
   "file_extension": ".py",
   "mimetype": "text/x-python",
   "name": "python",
   "nbconvert_exporter": "python",
   "pygments_lexer": "ipython3",
   "version": "3.8.8"
  }
 },
 "nbformat": 4,
 "nbformat_minor": 5
}
