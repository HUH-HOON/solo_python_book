{
 "cells": [
  {
   "cell_type": "markdown",
   "id": "c20002d2",
   "metadata": {},
   "source": [
    "# 람다(lambda)"
   ]
  },
  {
   "cell_type": "markdown",
   "id": "34c15a5f",
   "metadata": {},
   "source": [
    "map 함수는 리스트의 요소를 함수에 얺고 리턴된 값으로 새로운 리스트를 구성해 주는 함수입니다."
   ]
  },
  {
   "cell_type": "code",
   "execution_count": 1,
   "id": "e40b6f5a",
   "metadata": {},
   "outputs": [
    {
     "data": {
      "text/plain": [
       "[1, 4, 9, 16, 25]"
      ]
     },
     "execution_count": 1,
     "metadata": {},
     "output_type": "execute_result"
    }
   ],
   "source": [
    "def power(x) :\n",
    "    return x*x\n",
    "\n",
    "list_input_a = [1,2,3,4,5]\n",
    "\n",
    "output_a = map(power,list_input_a)\n",
    "list(output_a)"
   ]
  },
  {
   "cell_type": "markdown",
   "id": "12845c1e",
   "metadata": {},
   "source": [
    "fiter함수는 리스트의 요소를 함수에 넣고 리턴된 값이 True인 것으로, 새로운 리스트를 구성해주는 함수입니다."
   ]
  },
  {
   "cell_type": "code",
   "execution_count": 3,
   "id": "f61a6a8c",
   "metadata": {},
   "outputs": [
    {
     "data": {
      "text/plain": [
       "[1, 2]"
      ]
     },
     "execution_count": 3,
     "metadata": {},
     "output_type": "execute_result"
    }
   ],
   "source": [
    "def under_3(item) :\n",
    "    return item < 3\n",
    "\n",
    "output_b = filter(under_3, list_input_a)\n",
    "output_b = list(output_b)\n",
    "output_b"
   ]
  },
  {
   "cell_type": "code",
   "execution_count": 9,
   "id": "291d86c4",
   "metadata": {},
   "outputs": [
    {
     "name": "stdout",
     "output_type": "stream",
     "text": [
      "[1, 4, 9, 16, 25]\n"
     ]
    }
   ],
   "source": [
    "list_input_a = [1,2,3,4,5]\n",
    "\n",
    "output_a = map(lambda x : x*x, list_input_a)\n",
    "\n",
    "print(list(output_a))"
   ]
  },
  {
   "cell_type": "markdown",
   "id": "753b4550",
   "metadata": {},
   "source": [
    "# IO"
   ]
  }
 ],
 "metadata": {
  "kernelspec": {
   "display_name": "Python 3",
   "language": "python",
   "name": "python3"
  },
  "language_info": {
   "codemirror_mode": {
    "name": "ipython",
    "version": 3
   },
   "file_extension": ".py",
   "mimetype": "text/x-python",
   "name": "python",
   "nbconvert_exporter": "python",
   "pygments_lexer": "ipython3",
   "version": "3.8.8"
  }
 },
 "nbformat": 4,
 "nbformat_minor": 5
}
