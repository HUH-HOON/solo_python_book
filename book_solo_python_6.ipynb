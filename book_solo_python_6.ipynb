{
 "cells": [
  {
   "cell_type": "markdown",
   "id": "1235e309",
   "metadata": {},
   "source": [
    "# 예외 처리"
   ]
  },
  {
   "cell_type": "markdown",
   "id": "90c0b459",
   "metadata": {},
   "source": [
    "오류의 3종류\n",
    "\n",
    "1. syntax error 구문 오류\n",
    "    - 문법오류\n",
    "2. runtime error 런타임 오류 / 예외\n",
    "    - 프로그램 실행 중에 발생하는 오류\n",
    "3. 논리의 오류!!!!!!!!!!"
   ]
  },
  {
   "cell_type": "code",
   "execution_count": 3,
   "id": "8de0a20f",
   "metadata": {},
   "outputs": [
    {
     "name": "stdout",
     "output_type": "stream",
     "text": [
      "정수를 입력 >ㅁ\n",
      "정수를 입력해야 합니다.\n"
     ]
    }
   ],
   "source": [
    "user_input_a = input(\"정수를 입력 >\")\n",
    "\n",
    "if user_input_a.isdigit() :\n",
    "    number_input_a = int (user_input_a)\n",
    "    print(\"원의 반지름:\", number_input_a)\n",
    "    print(\"원의 둘레 :\", 2-3.14 * number_input_a)\n",
    "    print(\"원의 넓이 :\", 3.14 * number_input_a  * number_input_a)\n",
    "else:\n",
    "    print(\"정수를 입력해야 합니다.\")"
   ]
  },
  {
   "cell_type": "markdown",
   "id": "7c7dce2a",
   "metadata": {},
   "source": [
    "### try 구문"
   ]
  },
  {
   "cell_type": "code",
   "execution_count": 4,
   "id": "c99b046d",
   "metadata": {},
   "outputs": [
    {
     "name": "stdout",
     "output_type": "stream",
     "text": [
      "정수를 입력 > ㅇ\n",
      "무언가 잘못되었습니다.\n"
     ]
    }
   ],
   "source": [
    "try:\n",
    "    number_input_a = int (input(\"정수를 입력 > \"))\n",
    "\n",
    "    print(\"원의 반지름:\", number_input_a)\n",
    "    print(\"원의 둘레 :\", 2-3.14 * number_input_a)\n",
    "    print(\"원의 넓이 :\", 3.14 * number_input_a  * number_input_a)\n",
    "except:\n",
    "    print(\"무언가 잘못되었습니다.\")"
   ]
  },
  {
   "cell_type": "markdown",
   "id": "77629fa3",
   "metadata": {},
   "source": [
    "### + else문"
   ]
  },
  {
   "cell_type": "code",
   "execution_count": 8,
   "id": "260bec8c",
   "metadata": {},
   "outputs": [
    {
     "name": "stdout",
     "output_type": "stream",
     "text": [
      "정수를 입력 > 14\n",
      "원의 반지름: 14\n",
      "원의 둘레 : -41.96\n",
      "원의 넓이 : 615.44\n"
     ]
    }
   ],
   "source": [
    "try:\n",
    "    number_input_a = int (input(\"정수를 입력 > \"))\n",
    "except:\n",
    "    print(\"무언가 잘못되었습니다.\")\n",
    "else:\n",
    "    print(\"원의 반지름:\", number_input_a)\n",
    "    print(\"원의 둘레 :\", 2-3.14 * number_input_a)\n",
    "    print(\"원의 넓이 :\", 3.14 * number_input_a  * number_input_a)"
   ]
  },
  {
   "cell_type": "markdown",
   "id": "ed7c66f7",
   "metadata": {},
   "source": [
    "### finally 구문"
   ]
  },
  {
   "cell_type": "code",
   "execution_count": 10,
   "id": "7ac00e12",
   "metadata": {},
   "outputs": [
    {
     "name": "stdout",
     "output_type": "stream",
     "text": [
      "정수를 입력 > 3\n",
      "원의 반지름: 3\n",
      "원의 둘레 : -7.42\n",
      "원의 넓이 : 28.259999999999998\n",
      "열정열정열정\n"
     ]
    }
   ],
   "source": [
    "try:\n",
    "    number_input_a = int (input(\"정수를 입력 > \"))\n",
    "\n",
    "except:\n",
    "    print(\"무언가 잘못되었습니다.\")\n",
    "\n",
    "else:\n",
    "    print(\"원의 반지름:\", number_input_a)\n",
    "    print(\"원의 둘레 :\", 2-3.14 * number_input_a)\n",
    "    print(\"원의 넓이 :\", 3.14 * number_input_a  * number_input_a)\n",
    "    \n",
    "finally:\n",
    "    print(\"열정열정열정\")"
   ]
  },
  {
   "cell_type": "code",
   "execution_count": 18,
   "id": "c16859ae",
   "metadata": {},
   "outputs": [
    {
     "name": "stdout",
     "output_type": "stream",
     "text": [
      "#파일이 제대로 닫혔는지 확인하기\n",
      "file.closed: True\n"
     ]
    }
   ],
   "source": [
    "try:\n",
    "    file = open(\"info.txt\",\"w\")\n",
    "    #예외.발생()\n",
    "    file.close()\n",
    "except Excepthion as e:\n",
    "    print(e)\n",
    "    \n",
    "file.close()\n",
    "print(\"#파일이 제대로 닫혔는지 확인하기\")\n",
    "print(\"file.closed:\", file.closed)"
   ]
  },
  {
   "cell_type": "code",
   "execution_count": 15,
   "id": "0a8e2664",
   "metadata": {},
   "outputs": [
    {
     "name": "stdout",
     "output_type": "stream",
     "text": [
      "file.closed: True\n"
     ]
    }
   ],
   "source": [
    "try:\n",
    "    file = open(\"info.txt\",\"w\")\n",
    "    #예외.발생하라()\n",
    "    file.close()\n",
    "except Excepthion as e:\n",
    "    print(e)\n",
    "\n",
    "finally :\n",
    "    file.close()\n",
    "\n",
    "print(\"file.closed:\", file.closed)"
   ]
  },
  {
   "cell_type": "markdown",
   "id": "214e25eb",
   "metadata": {},
   "source": [
    "### return 의 중요성"
   ]
  },
  {
   "cell_type": "code",
   "execution_count": 27,
   "id": "39c728af",
   "metadata": {},
   "outputs": [
    {
     "name": "stdout",
     "output_type": "stream",
     "text": [
      "1\n",
      "2\n",
      "4\n",
      "5\n"
     ]
    }
   ],
   "source": [
    "try:\n",
    "    print(1)\n",
    "    print(2)\n",
    "except:\n",
    "    print(3)\n",
    "finally:\n",
    "    print(4)\n",
    "print(5)"
   ]
  },
  {
   "cell_type": "code",
   "execution_count": 29,
   "id": "1618d5d1",
   "metadata": {},
   "outputs": [
    {
     "name": "stdout",
     "output_type": "stream",
     "text": [
      "1\n",
      "2\n",
      "4\n"
     ]
    }
   ],
   "source": [
    "def test():\n",
    "    try:\n",
    "        print(1)\n",
    "        print(2)\n",
    "        return\n",
    "    except:\n",
    "        print(3)\n",
    "    finally:\n",
    "        print(4)\n",
    "    print(5)\n",
    "test()"
   ]
  },
  {
   "cell_type": "code",
   "execution_count": 30,
   "id": "03cd5cd8",
   "metadata": {},
   "outputs": [
    {
     "name": "stdout",
     "output_type": "stream",
     "text": [
      "1\n",
      "2\n",
      "4\n"
     ]
    }
   ],
   "source": [
    "while True:\n",
    "    try:\n",
    "        print(1)\n",
    "        print(2)\n",
    "        break\n",
    "    except:\n",
    "        print(3)\n",
    "    finally:\n",
    "        print(4)\n",
    "    print(5)"
   ]
  },
  {
   "cell_type": "code",
   "execution_count": 49,
   "id": "28d658bc",
   "metadata": {
    "scrolled": true
   },
   "outputs": [
    {
     "name": "stdout",
     "output_type": "stream",
     "text": [
      "#(1) 요소 내부에 있는 값 찾기\n",
      "- 52는 0 위치에 있습니다.\n",
      "\n",
      "# (2) 요소 내부에 없는 값 찾기\n",
      "정상적으로 종료되었습니다.\n"
     ]
    }
   ],
   "source": [
    "numbers = [52, 273, 32, 103, 90, 10, 275]\n",
    "try:\n",
    "    print(\"#(1) 요소 내부에 있는 값 찾기\")\n",
    "    print(\"- {}는 {} 위치에 있습니다.\" . format(52, numbers.index(52)))\n",
    "    print()\n",
    "    \n",
    "    print(\"# (2) 요소 내부에 없는 값 찾기\")\n",
    "    number = 1000\n",
    "\n",
    "except:\n",
    "    print(\"- {}는 {} 위치에 있습니다.\".format(number, numbers.index(number)))\n",
    "    print(\"- 리스트 내부에 없는 값입니다.\")\n",
    "    print()\n",
    "\n",
    "finally:\n",
    "    print(\"정상적으로 종료되었습니다.\")"
   ]
  },
  {
   "cell_type": "markdown",
   "id": "8ea12a85",
   "metadata": {},
   "source": [
    "# 오류 구분하기"
   ]
  },
  {
   "cell_type": "code",
   "execution_count": 50,
   "id": "055a1413",
   "metadata": {},
   "outputs": [
    {
     "ename": "TypeError",
     "evalue": "unsupported operand type(s) for +: 'int' and 'str'",
     "output_type": "error",
     "traceback": [
      "\u001b[1;31m---------------------------------------------------------------------------\u001b[0m",
      "\u001b[1;31mTypeError\u001b[0m                                 Traceback (most recent call last)",
      "\u001b[1;32m<ipython-input-50-af8e90ddef6b>\u001b[0m in \u001b[0;36m<module>\u001b[1;34m\u001b[0m\n\u001b[1;32m----> 1\u001b[1;33m \u001b[0moutput\u001b[0m \u001b[1;33m=\u001b[0m \u001b[1;36m10\u001b[0m \u001b[1;33m+\u001b[0m \u001b[1;34m\"개\"\u001b[0m\u001b[1;33m\u001b[0m\u001b[1;33m\u001b[0m\u001b[0m\n\u001b[0m",
      "\u001b[1;31mTypeError\u001b[0m: unsupported operand type(s) for +: 'int' and 'str'"
     ]
    }
   ],
   "source": [
    "output = 10 + \"개\""
   ]
  },
  {
   "cell_type": "code",
   "execution_count": 51,
   "id": "e2e72d55",
   "metadata": {},
   "outputs": [
    {
     "ename": "ValueError",
     "evalue": "invalid literal for int() with base 10: '안녕하세요'",
     "output_type": "error",
     "traceback": [
      "\u001b[1;31m---------------------------------------------------------------------------\u001b[0m",
      "\u001b[1;31mValueError\u001b[0m                                Traceback (most recent call last)",
      "\u001b[1;32m<ipython-input-51-b771e1eb05d9>\u001b[0m in \u001b[0;36m<module>\u001b[1;34m\u001b[0m\n\u001b[1;32m----> 1\u001b[1;33m \u001b[0mint\u001b[0m\u001b[1;33m(\u001b[0m\u001b[1;34m\"안녕하세요\"\u001b[0m\u001b[1;33m)\u001b[0m\u001b[1;33m\u001b[0m\u001b[1;33m\u001b[0m\u001b[0m\n\u001b[0m",
      "\u001b[1;31mValueError\u001b[0m: invalid literal for int() with base 10: '안녕하세요'"
     ]
    }
   ],
   "source": [
    "int(\"안녕하세요\")"
   ]
  },
  {
   "cell_type": "code",
   "execution_count": 52,
   "id": "40b7075f",
   "metadata": {},
   "outputs": [
    {
     "ename": "SyntaxError",
     "evalue": "unmatched ')' (<ipython-input-52-796ccc054572>, line 1)",
     "output_type": "error",
     "traceback": [
      "\u001b[1;36m  File \u001b[1;32m\"<ipython-input-52-796ccc054572>\"\u001b[1;36m, line \u001b[1;32m1\u001b[0m\n\u001b[1;33m    cursor.close)\u001b[0m\n\u001b[1;37m                ^\u001b[0m\n\u001b[1;31mSyntaxError\u001b[0m\u001b[1;31m:\u001b[0m unmatched ')'\n"
     ]
    }
   ],
   "source": [
    "cursor.close)"
   ]
  },
  {
   "cell_type": "code",
   "execution_count": 53,
   "id": "86e64fec",
   "metadata": {},
   "outputs": [
    {
     "ename": "IndexError",
     "evalue": "list index out of range",
     "output_type": "error",
     "traceback": [
      "\u001b[1;31m---------------------------------------------------------------------------\u001b[0m",
      "\u001b[1;31mIndexError\u001b[0m                                Traceback (most recent call last)",
      "\u001b[1;32m<ipython-input-53-e41e508d9aa0>\u001b[0m in \u001b[0;36m<module>\u001b[1;34m\u001b[0m\n\u001b[1;32m----> 1\u001b[1;33m \u001b[1;33m[\u001b[0m\u001b[1;36m1\u001b[0m\u001b[1;33m,\u001b[0m\u001b[1;36m2\u001b[0m\u001b[1;33m,\u001b[0m\u001b[1;36m3\u001b[0m\u001b[1;33m,\u001b[0m\u001b[1;36m4\u001b[0m\u001b[1;33m,\u001b[0m\u001b[1;36m5\u001b[0m\u001b[1;33m]\u001b[0m\u001b[1;33m[\u001b[0m\u001b[1;36m10\u001b[0m\u001b[1;33m]\u001b[0m\u001b[1;33m\u001b[0m\u001b[1;33m\u001b[0m\u001b[0m\n\u001b[0m",
      "\u001b[1;31mIndexError\u001b[0m: list index out of range"
     ]
    }
   ],
   "source": [
    "[1,2,3,4,5][10]"
   ]
  },
  {
   "cell_type": "markdown",
   "id": "92860935",
   "metadata": {},
   "source": [
    "1.실행 오류\n",
    "2.실행 오류\n",
    "3.문법 오류\n",
    "4.실행 오류"
   ]
  },
  {
   "cell_type": "markdown",
   "id": "d9d1bc41",
   "metadata": {},
   "source": [
    "### 예외 고급"
   ]
  },
  {
   "cell_type": "markdown",
   "id": "88fc3aed",
   "metadata": {},
   "source": [
    "except 블럭을 여러개 만들 수 있다.<br>\n",
    "    - 예외 종류가 다양할때 사용한다."
   ]
  },
  {
   "cell_type": "code",
   "execution_count": 56,
   "id": "1bd56aa5",
   "metadata": {},
   "outputs": [
    {
     "name": "stdout",
     "output_type": "stream",
     "text": [
      "정수 입력> 1\n",
      "1번째 요소 : 2773\n",
      "알수 없는 오류\n",
      "<class 'NameError'> name '예외' is not defined\n"
     ]
    }
   ],
   "source": [
    "list_number = [52,2773,32,72,100]\n",
    "\n",
    "try:\n",
    "    number_input = int(input(\"정수 입력> \"))\n",
    "    print(\"{}번째 요소 : {}\".format(number_input, list_number[number_input]))\n",
    "    예외.발생해주세요()\n",
    "\n",
    "except ValueError as aaa:\n",
    "    print(\"정수\")\n",
    "    print(type(aaa),aaa)\n",
    "\n",
    "except IndexError as aaa:\n",
    "    print(\"리스트의 인덱스를 벗어났어요!\")\n",
    "    print(type(aaa),aaa)\n",
    "except Exception as aaa:\n",
    "    print(\"알수 없는 오류\")\n",
    "    print(type(aaa),aaa)\n",
    "    "
   ]
  },
  {
   "cell_type": "markdown",
   "id": "5dc07ccd",
   "metadata": {},
   "source": [
    "### raise 구문"
   ]
  }
 ],
 "metadata": {
  "kernelspec": {
   "display_name": "Python 3",
   "language": "python",
   "name": "python3"
  },
  "language_info": {
   "codemirror_mode": {
    "name": "ipython",
    "version": 3
   },
   "file_extension": ".py",
   "mimetype": "text/x-python",
   "name": "python",
   "nbconvert_exporter": "python",
   "pygments_lexer": "ipython3",
   "version": "3.8.8"
  }
 },
 "nbformat": 4,
 "nbformat_minor": 5
}
