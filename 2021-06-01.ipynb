{
 "cells": [
  {
   "cell_type": "markdown",
   "id": "d1626009",
   "metadata": {},
   "source": [
    "# 파이썬 문제 풀이\n",
    "\n",
    "## 2번 문제\n",
    "\n",
    "data = [ \"서울\",\"부산\",\"대구\",\"인천\"   ] \n",
    " \n",
    "위 리스트의 마지막에 \"천안\" 을 추가하고, 출력하세요. <br>\n",
    "위 리스트의 2번째에 \"제주\" 을 추가하고, 출력하세요.   <br>\n",
    "위 리스트의 첫번째 요소를 삭제하고, 출력하세요. . <br>\n",
    "위 리스트에서 \"대구\"를 삭제하고, 출력하세요.  <br>\n",
    "위 리스트에서 \"제주\"이라는 문자열은 몇번째 위치하는가? \n",
    " "
   ]
  },
  {
   "cell_type": "code",
   "execution_count": 122,
   "id": "e5747af8",
   "metadata": {},
   "outputs": [
    {
     "name": "stdout",
     "output_type": "stream",
     "text": [
      "['서울', '부산', '대구', '인천', '천안']\n",
      "['서울', '제주', '부산', '대구', '인천', '천안']\n",
      "['제주', '부산', '대구', '인천', '천안']\n",
      "['제주', '부산', '인천', '천안']\n"
     ]
    },
    {
     "data": {
      "text/plain": [
       "0"
      ]
     },
     "execution_count": 122,
     "metadata": {},
     "output_type": "execute_result"
    }
   ],
   "source": [
    "data = [ \"서울\",\"부산\",\"대구\",\"인천\" ]\n",
    "\n",
    "data.extend([\"천안\"])\n",
    "print(data)\n",
    "\n",
    "data.insert(1,\"제주\")\n",
    "print(data)\n",
    "\n",
    "del data[0]\n",
    "print(data)\n",
    "\n",
    "data.pop(2)\n",
    "print(data)\n",
    "\n",
    "data.index(\"제주\")"
   ]
  },
  {
   "cell_type": "markdown",
   "id": "d246bff5",
   "metadata": {},
   "source": [
    "## 3번 문제"
   ]
  },
  {
   "cell_type": "markdown",
   "id": "48be97bd",
   "metadata": {},
   "source": [
    "#### 1)\n",
    "game = {\"가위\":1,\n",
    "        \"바위\":2,\n",
    "        \"보\"  : 3 }  \n",
    "\n",
    "위와 같은 딕셔너리가 있습니다. \n",
    "사용자로 부터 \"가위, 바위,  보\" 중 하나를 입력받고, 그 값을 key로 \n",
    "딕셔너리에서 value를 조회하여 출력합니다.   \n",
    "\n",
    " \n",
    "2)\n",
    "\n",
    "사용자로 부터 이름, 주소를 입력받고, \n",
    "user라는 딕셔너리에 저장합니다. \n",
    "예를 들어, 이름을 홍길동 입력, 주소를 서울 입력했으면 \n",
    "user = {\"name\" : \"홍길동\", \"address\" : \"서울\" } \n",
    "의 딕셔너리를 만들고, 그 정보를 출력합니다. \n",
    "\n",
    "\n",
    "\n",
    "3) \n",
    "price = { \"피자\" : 10000 ,  \"김치볶음밥\" : 5000, \"짜장면\" : 4500, \"김밥\" : 2000 }\n",
    "order = { \"피자\" : 3 ,  \"김치볶음밥\" : 2,  \"김밥\" : 5 }  \n",
    "\n",
    "위와 같이 제품의 가격 정보가 있는 딕셔너리와\n",
    "                 주문 정보가 있는 딕셔너리가 있다.  \n",
    "총 주문 가격을 출력하세요. \n",
    "\n",
    " \n",
    "주문한 모든 제품 명을 출력하세요. \n",
    "주문한 음식은 총 몇인분 인지 출력하세요. \n",
    "\n",
    "주문한 음식 중에 짜장면이 있는지 출력하세요. "
   ]
  },
  {
   "cell_type": "markdown",
   "id": "16c09700",
   "metadata": {},
   "source": [
    "3-1"
   ]
  },
  {
   "cell_type": "code",
   "execution_count": 124,
   "id": "00a2e4b3",
   "metadata": {},
   "outputs": [
    {
     "name": "stdout",
     "output_type": "stream",
     "text": [
      "가위,바위,보 중 적어주세요. : 가위\n",
      "1\n"
     ]
    }
   ],
   "source": [
    "game = {\"가위\" : 1, \"바위\" : 2, \"보\" : 3 }\n",
    "\n",
    "key = input(\"가위,바위,보 중 적어주세요. : \")\n",
    "if key in game :\n",
    "    print(game[key])\n",
    "else:\n",
    "    print(\"존재하지 않는 값입니다.\")"
   ]
  },
  {
   "cell_type": "markdown",
   "id": "329aa9ba",
   "metadata": {},
   "source": [
    "3-2"
   ]
  },
  {
   "cell_type": "code",
   "execution_count": 165,
   "id": "b90aaa2e",
   "metadata": {},
   "outputs": [
    {
     "name": "stdout",
     "output_type": "stream",
     "text": [
      "사용자 이름을 넣어주세요 : d\n",
      "주소를 적어주세요 : d\n",
      "d\n"
     ]
    }
   ],
   "source": [
    "to = []\n",
    "\n",
    "name = input(\"사용자 이름을 넣어주세요 : \")\n",
    "address = input(\"주소를 적어주세요 : \")\n",
    "\n"
   ]
  },
  {
   "cell_type": "markdown",
   "id": "18c1f0a7",
   "metadata": {},
   "source": [
    "3-3"
   ]
  },
  {
   "cell_type": "code",
   "execution_count": 170,
   "id": "ff0007cc",
   "metadata": {},
   "outputs": [
    {
     "name": "stdout",
     "output_type": "stream",
     "text": [
      "True\n",
      "True\n",
      "False\n",
      "True\n"
     ]
    }
   ],
   "source": [
    "price = { \"피자\" : 10000 , \"김치볶음밥\" : 5000, \"짜장면\" : 4500, \"김밥\" : 2000 } \n",
    "order = { \"피자\" : 3 , \"김치볶음밥\" : 2, \"김밥\" : 5 }\n",
    "\n",
    "for i in price:\n",
    "    print(i in order)"
   ]
  },
  {
   "cell_type": "code",
   "execution_count": null,
   "id": "291b1294",
   "metadata": {},
   "outputs": [],
   "source": []
  },
  {
   "cell_type": "markdown",
   "id": "29f7869a",
   "metadata": {},
   "source": [
    "# 4번 문제"
   ]
  },
  {
   "cell_type": "markdown",
   "id": "9ce9ac8b",
   "metadata": {},
   "source": [
    "1)\n",
    "\n",
    "점수를 입력받고, \n",
    "점수가 0~100 사이의 값이 아니면,  \"점수 입력이 잘못되었습니다\" 출력 <br>\n",
    "점수가 100~91 사이의 값이면, \"A\" 출력 <br>\n",
    "점수가 90~60 사이의 값이면, \"B\" 출력 <br>\n",
    "점수가 60~51 사이의 값이면, \"C\" 출력 <br>\n",
    "점수가 50~0 사이의 값이면, \"D\" 출력 <br>\n",
    "\n",
    "\n",
    "2)\n",
    "\n",
    "숫자를 입력받고, \n",
    "3의 배수이면 \"3의 배수\" 출력. \n",
    "5의 배수이면 \"5의 배수\" 출력. \n",
    "7의 배수이면 \"7의 배수\" 출력. \n",
    "2의 배수이면 \"2의 배수\" 출력.  \n",
    "그렇지 않으면 \"해당되는 값이 없습니다\" 출력\n",
    "  "
   ]
  },
  {
   "cell_type": "markdown",
   "id": "6144908d",
   "metadata": {},
   "source": [
    "4-1"
   ]
  },
  {
   "cell_type": "code",
   "execution_count": 48,
   "id": "cf0f2d2c",
   "metadata": {},
   "outputs": [
    {
     "name": "stdout",
     "output_type": "stream",
     "text": [
      "점수를 입력해주세요 : 50\n",
      "D\n"
     ]
    }
   ],
   "source": [
    "number =input(\"점수를 입력해주세요 : \")\n",
    "number = int(number)\n",
    "\n",
    "if number < 0 and number>100 :\n",
    "    print(\"점수 입력이 잘못되었습니다.\")\n",
    "elif number <=100 and number > 90:\n",
    "    print(\"A\")\n",
    "elif number <= 90 and number >= 60:\n",
    "    print(\"B\")\n",
    "elif number <=60 and number >51:\n",
    "    print(\"C\")\n",
    "elif number <=50 and number >0:\n",
    "    print(\"D\")\n",
    "else :\n",
    "    print(\"잘못된 값입니다.\")"
   ]
  },
  {
   "cell_type": "markdown",
   "id": "7bc7df4c",
   "metadata": {},
   "source": [
    "4-2"
   ]
  },
  {
   "cell_type": "code",
   "execution_count": 50,
   "id": "eafa9a33",
   "metadata": {},
   "outputs": [
    {
     "name": "stdout",
     "output_type": "stream",
     "text": [
      "점수를 입력해주세요 : 66\n",
      "3의 배수입니다.\n"
     ]
    }
   ],
   "source": [
    "number =input(\"점수를 입력해주세요 : \")\n",
    "number = int(number)\n",
    "\n",
    "if number %3 == 0 :\n",
    "    print(\"3의 배수입니다.\")\n",
    "elif number %5 == 0 :\n",
    "    print(\"5의 배수입니다.\")\n",
    "elif number %7 == 0 :\n",
    "    print(\"7의 배수입니다.\")\n",
    "elif number %2 == 0 :\n",
    "    print(\"2의 배수입니다.\")\n",
    "else:\n",
    "    print(\"해당되는 값이 없습니다.\")\n",
    "    "
   ]
  },
  {
   "cell_type": "markdown",
   "id": "46265eff",
   "metadata": {},
   "source": [
    "# 5번 문제"
   ]
  },
  {
   "cell_type": "markdown",
   "id": "5fee6103",
   "metadata": {},
   "source": [
    "5-1"
   ]
  },
  {
   "cell_type": "code",
   "execution_count": 127,
   "id": "a1fff5c7",
   "metadata": {},
   "outputs": [
    {
     "name": "stdout",
     "output_type": "stream",
     "text": [
      "\n",
      "P\n",
      "Py\n",
      "Pyt\n",
      "Pyth\n",
      "Pytho\n",
      "Python\n"
     ]
    }
   ],
   "source": [
    "txt=\"Python\"\n",
    "for i in range(7):\n",
    "    print(txt[:i])"
   ]
  },
  {
   "cell_type": "markdown",
   "id": "4a60aa8f",
   "metadata": {},
   "source": [
    "5-2"
   ]
  },
  {
   "cell_type": "code",
   "execution_count": 81,
   "id": "75343231",
   "metadata": {
    "scrolled": true
   },
   "outputs": [
    {
     "name": "stdout",
     "output_type": "stream",
     "text": [
      "*\n",
      "**\n",
      "***\n",
      "****\n",
      "*****\n"
     ]
    }
   ],
   "source": [
    "i = 0\n",
    "for i in range(1, 6) :\n",
    "    print(\"*\" * i)"
   ]
  },
  {
   "cell_type": "markdown",
   "id": "04efc194",
   "metadata": {},
   "source": [
    "5-3"
   ]
  },
  {
   "cell_type": "code",
   "execution_count": 84,
   "id": "6845dbf2",
   "metadata": {},
   "outputs": [
    {
     "name": "stdout",
     "output_type": "stream",
     "text": [
      "*****\n",
      "****\n",
      "***\n",
      "**\n",
      "*\n"
     ]
    }
   ],
   "source": [
    "i = 0\n",
    "for i in range(5, 0, -1) :\n",
    "    print(\"*\" * i)"
   ]
  },
  {
   "cell_type": "markdown",
   "id": "c49e5780",
   "metadata": {},
   "source": [
    "5-4"
   ]
  },
  {
   "cell_type": "code",
   "execution_count": 107,
   "id": "d9103668",
   "metadata": {
    "collapsed": true
   },
   "outputs": [
    {
     "name": "stdout",
     "output_type": "stream",
     "text": [
      "1\n",
      "2\n",
      "3\n",
      "4\n",
      "6\n",
      "7\n",
      "8\n",
      "9\n",
      "11\n",
      "12\n",
      "13\n",
      "14\n",
      "16\n",
      "17\n",
      "18\n",
      "19\n",
      "21\n",
      "22\n",
      "23\n",
      "24\n",
      "26\n",
      "27\n",
      "28\n",
      "29\n",
      "31\n",
      "32\n",
      "33\n",
      "34\n",
      "36\n",
      "37\n",
      "38\n",
      "39\n",
      "41\n",
      "42\n",
      "43\n",
      "44\n",
      "46\n",
      "47\n",
      "48\n",
      "49\n",
      "51\n",
      "52\n",
      "53\n",
      "54\n",
      "56\n",
      "57\n",
      "58\n",
      "59\n",
      "61\n",
      "62\n",
      "63\n",
      "64\n",
      "66\n",
      "67\n",
      "68\n",
      "69\n",
      "71\n",
      "72\n",
      "73\n",
      "74\n",
      "76\n",
      "77\n",
      "78\n",
      "79\n",
      "81\n",
      "82\n",
      "83\n",
      "84\n",
      "86\n",
      "87\n",
      "88\n",
      "89\n",
      "91\n",
      "92\n",
      "93\n",
      "94\n",
      "96\n",
      "97\n",
      "98\n",
      "99\n"
     ]
    }
   ],
   "source": [
    "for i in range(101):\n",
    "    if i %5 != 0:\n",
    "        print(i)"
   ]
  },
  {
   "cell_type": "markdown",
   "id": "a6f0dd4a",
   "metadata": {},
   "source": [
    "5-5"
   ]
  },
  {
   "cell_type": "code",
   "execution_count": 151,
   "id": "0c5755d6",
   "metadata": {},
   "outputs": [
    {
     "name": "stdout",
     "output_type": "stream",
     "text": [
      "등록할 학생의 이름을 입력하세요. : \n"
     ]
    },
    {
     "ename": "ValueError",
     "evalue": "invalid literal for int() with base 10: ''",
     "output_type": "error",
     "traceback": [
      "\u001b[1;31m---------------------------------------------------------------------------\u001b[0m",
      "\u001b[1;31mValueError\u001b[0m                                Traceback (most recent call last)",
      "\u001b[1;32m<ipython-input-151-eef4a38a3641>\u001b[0m in \u001b[0;36m<module>\u001b[1;34m\u001b[0m\n\u001b[0;32m      2\u001b[0m \u001b[1;33m\u001b[0m\u001b[0m\n\u001b[0;32m      3\u001b[0m \u001b[1;32mwhile\u001b[0m \u001b[1;32mTrue\u001b[0m \u001b[1;33m:\u001b[0m\u001b[1;33m\u001b[0m\u001b[1;33m\u001b[0m\u001b[0m\n\u001b[1;32m----> 4\u001b[1;33m     \u001b[0msel\u001b[0m \u001b[1;33m=\u001b[0m \u001b[0mint\u001b[0m\u001b[1;33m(\u001b[0m\u001b[0minput\u001b[0m\u001b[1;33m(\u001b[0m\u001b[1;34m'등록할 학생의 이름을 입력하세요. : '\u001b[0m\u001b[1;33m)\u001b[0m\u001b[1;33m)\u001b[0m\u001b[1;33m\u001b[0m\u001b[1;33m\u001b[0m\u001b[0m\n\u001b[0m\u001b[0;32m      5\u001b[0m     \u001b[1;32mif\u001b[0m \u001b[0msel\u001b[0m \u001b[1;33m==\u001b[0m \u001b[1;34m\" \"\u001b[0m \u001b[1;33m:\u001b[0m\u001b[1;33m\u001b[0m\u001b[1;33m\u001b[0m\u001b[0m\n\u001b[0;32m      6\u001b[0m         \u001b[0mprint\u001b[0m\u001b[1;33m(\u001b[0m\u001b[1;34m\"===== 딕셔너리 요소 추가 중 =====\"\u001b[0m\u001b[1;33m)\u001b[0m\u001b[1;33m\u001b[0m\u001b[1;33m\u001b[0m\u001b[0m\n",
      "\u001b[1;31mValueError\u001b[0m: invalid literal for int() with base 10: ''"
     ]
    }
   ],
   "source": [
    "a = input('등록할 학생의 이름을 입력하세요. : ')\n",
    "b = input('등록할 학생의 이름을 입력하세요. : ')\n",
    "    "
   ]
  },
  {
   "cell_type": "markdown",
   "id": "5ceadd75",
   "metadata": {},
   "source": [
    "### 6번"
   ]
  },
  {
   "cell_type": "markdown",
   "id": "a13950d0",
   "metadata": {},
   "source": [
    "1) \n",
    "data = [10, 100, 70,99 ,22 ] <br>\n",
    "For 문을 이용하여 data 합과 평균을 구하세요. <br>\n",
    "\n",
    "2) \n",
    "data = [10, 333, 6 ,99 ,22 ] <br>\n",
    "For 문을 이용하여 data 합을 구하세요. <br>\n",
    "단, 3의 배수인 숫자만 합을 구합니다."
   ]
  },
  {
   "cell_type": "code",
   "execution_count": 134,
   "id": "a6e5b0b3",
   "metadata": {
    "scrolled": true
   },
   "outputs": [
    {
     "name": "stdout",
     "output_type": "stream",
     "text": [
      "301\n",
      "60.2\n"
     ]
    }
   ],
   "source": [
    "data = [10,100,70,99,22]\n",
    "\n",
    "sum = 0\n",
    "for i in data :\n",
    "    sum += i\n",
    "print(sum)\n",
    "\n",
    "aver = 0\n",
    "for i in data :\n",
    "    aver +=i\n",
    "print(aver/5)"
   ]
  },
  {
   "cell_type": "code",
   "execution_count": 147,
   "id": "9ef5b0fa",
   "metadata": {},
   "outputs": [
    {
     "name": "stdout",
     "output_type": "stream",
     "text": [
      "438\n"
     ]
    }
   ],
   "source": [
    "data = [10, 333, 6 ,99 ,22 ]\n",
    "\n",
    "sum = 0\n",
    "for i in data :\n",
    "     if (i%3 == 0):\n",
    "        sum += i\n",
    "print(sum)"
   ]
  },
  {
   "cell_type": "code",
   "execution_count": null,
   "id": "81a8f7d2",
   "metadata": {},
   "outputs": [],
   "source": []
  }
 ],
 "metadata": {
  "kernelspec": {
   "display_name": "Python 3",
   "language": "python",
   "name": "python3"
  },
  "language_info": {
   "codemirror_mode": {
    "name": "ipython",
    "version": 3
   },
   "file_extension": ".py",
   "mimetype": "text/x-python",
   "name": "python",
   "nbconvert_exporter": "python",
   "pygments_lexer": "ipython3",
   "version": "3.8.8"
  }
 },
 "nbformat": 4,
 "nbformat_minor": 5
}
