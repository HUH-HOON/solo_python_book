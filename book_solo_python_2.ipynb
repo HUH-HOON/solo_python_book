{
 "cells": [
  {
   "cell_type": "markdown",
   "id": "f4dec312",
   "metadata": {},
   "source": [
    "# 챕터 2-1 자료형과 문자열"
   ]
  },
  {
   "cell_type": "code",
   "execution_count": 1,
   "id": "105abb46",
   "metadata": {
    "scrolled": true
   },
   "outputs": [
    {
     "name": "stdout",
     "output_type": "stream",
     "text": [
      "허훈\n"
     ]
    }
   ],
   "source": [
    "print(\"허훈\")"
   ]
  },
  {
   "cell_type": "code",
   "execution_count": 2,
   "id": "40c6fe34",
   "metadata": {
    "scrolled": true
   },
   "outputs": [
    {
     "name": "stdout",
     "output_type": "stream",
     "text": [
      "안녕하세요\n",
      "<class 'str'>\n",
      "<class 'int'>\n"
     ]
    }
   ],
   "source": [
    "print('안녕하세요')\n",
    "print(type('안녕하세요'))\n",
    "print(type(270))"
   ]
  },
  {
   "cell_type": "markdown",
   "id": "93919674",
   "metadata": {},
   "source": [
    "### print 을 해야 모두 출력해준다."
   ]
  },
  {
   "cell_type": "code",
   "execution_count": 3,
   "id": "3af3f207",
   "metadata": {},
   "outputs": [
    {
     "name": "stdout",
     "output_type": "stream",
     "text": [
      "<class 'int'>\n"
     ]
    }
   ],
   "source": [
    "('안녕하세요')\n",
    "(type('안녕하세요'))\n",
    "print(type(270))"
   ]
  },
  {
   "cell_type": "code",
   "execution_count": 4,
   "id": "4a626f22",
   "metadata": {},
   "outputs": [
    {
     "name": "stdout",
     "output_type": "stream",
     "text": [
      "안녕하세요 저는 허훈입니다.\n"
     ]
    }
   ],
   "source": [
    "print ( '안녕하세요'+ \" \"+ '저는'+ \" \"+ '허훈입니다.')"
   ]
  },
  {
   "cell_type": "code",
   "execution_count": 5,
   "id": "3b12a370",
   "metadata": {},
   "outputs": [
    {
     "name": "stdout",
     "output_type": "stream",
     "text": [
      "'배불러서' 졸려요.\n"
     ]
    }
   ],
   "source": [
    "print ( \"'배불러서' 졸려요.\" )"
   ]
  },
  {
   "cell_type": "code",
   "execution_count": 6,
   "id": "6ce0a383",
   "metadata": {},
   "outputs": [
    {
     "name": "stdout",
     "output_type": "stream",
     "text": [
      "\t'배불러서' \n",
      " 졸려요.\n"
     ]
    }
   ],
   "source": [
    "print ( \"\\t'배불러서' \\n 졸려요.\" )"
   ]
  },
  {
   "cell_type": "markdown",
   "id": "c0ab7255",
   "metadata": {},
   "source": [
    "\\t 탭 <br>\n",
    "\\n 줄바꾸기"
   ]
  },
  {
   "cell_type": "code",
   "execution_count": 7,
   "id": "ad1c27c4",
   "metadata": {},
   "outputs": [
    {
     "name": "stdout",
     "output_type": "stream",
     "text": [
      "동해물과 백두산이 마르고 닳도록\n",
      "하느님이 보우하사 우리나라만세\n",
      "(후렴)\n",
      "가\n",
      "나\n",
      "다\n",
      "라\n",
      "\n",
      "무궁화 삼천리 화려강산 대한사람 대한으로 길이 보전하세\n"
     ]
    }
   ],
   "source": [
    "print (\"\"\"동해물과 백두산이 마르고 닳도록\n",
    "하느님이 보우하사 우리나라만세\n",
    "(후렴)\n",
    "가\n",
    "나\n",
    "다\n",
    "라\n",
    "\n",
    "무궁화 삼천리 화려강산 대한사람 대한으로 길이 보전하세\"\"\")"
   ]
  },
  {
   "cell_type": "code",
   "execution_count": 8,
   "id": "98208436",
   "metadata": {},
   "outputs": [
    {
     "name": "stdout",
     "output_type": "stream",
     "text": [
      "안녕하세요1\n"
     ]
    }
   ],
   "source": [
    "print(\"안녕하세요\"+\"1\")"
   ]
  },
  {
   "cell_type": "code",
   "execution_count": 9,
   "id": "0a6f960e",
   "metadata": {},
   "outputs": [
    {
     "name": "stdout",
     "output_type": "stream",
     "text": [
      "안녕하세요 하이\n"
     ]
    }
   ],
   "source": [
    "print(\"안녕하세요\"+\" \"+\"하이\")"
   ]
  },
  {
   "cell_type": "code",
   "execution_count": 10,
   "id": "57f62454",
   "metadata": {},
   "outputs": [
    {
     "name": "stdout",
     "output_type": "stream",
     "text": [
      "안녕하세요 안녕하세요 안녕하세요 \n"
     ]
    }
   ],
   "source": [
    "print((\"안녕하세요\" + \" \" )* 3)"
   ]
  },
  {
   "cell_type": "code",
   "execution_count": 11,
   "id": "20b76bbf",
   "metadata": {},
   "outputs": [
    {
     "name": "stdout",
     "output_type": "stream",
     "text": [
      "ㅋㅋㄹㅃㅃ ㅋㅋㄹㅃㅃ ㅋㅋㄹㅃㅃ ㅋㅋㄹㅃㅃ ㅋㅋㄹㅃㅃ \n"
     ]
    }
   ],
   "source": [
    "print((\"ㅋㅋㄹㅃㅃ\" + \" \") * 5)"
   ]
  },
  {
   "cell_type": "code",
   "execution_count": 12,
   "id": "344cac47",
   "metadata": {},
   "outputs": [
    {
     "name": "stdout",
     "output_type": "stream",
     "text": [
      "안\n",
      "녕\n",
      "하\n",
      "세\n",
      "요\n"
     ]
    }
   ],
   "source": [
    "print(\"안녕하세요\"[0])\n",
    "print(\"안녕하세요\"[1])\n",
    "print(\"안녕하세요\"[2])\n",
    "print(\"안녕하세요\"[3])\n",
    "print(\"안녕하세요\"[4])"
   ]
  },
  {
   "cell_type": "code",
   "execution_count": 13,
   "id": "3b516873",
   "metadata": {},
   "outputs": [
    {
     "name": "stdout",
     "output_type": "stream",
     "text": [
      "안\n",
      "요\n",
      "세\n",
      "하\n",
      "녕\n"
     ]
    }
   ],
   "source": [
    "print(\"안녕하세요\"[0])\n",
    "print(\"안녕하세요\"[-1])\n",
    "print(\"안녕하세요\"[-2])\n",
    "print(\"안녕하세요\"[-3])\n",
    "print(\"안녕하세요\"[-4])"
   ]
  },
  {
   "cell_type": "code",
   "execution_count": 14,
   "id": "36294865",
   "metadata": {},
   "outputs": [
    {
     "name": "stdout",
     "output_type": "stream",
     "text": [
      "안녕하세요\n"
     ]
    }
   ],
   "source": [
    "print('안녕하세요'[0:5])"
   ]
  },
  {
   "cell_type": "code",
   "execution_count": 15,
   "id": "f5589aa7",
   "metadata": {},
   "outputs": [
    {
     "name": "stdout",
     "output_type": "stream",
     "text": [
      "녕하세요\n"
     ]
    }
   ],
   "source": [
    "print('안녕하세요'[1:])"
   ]
  },
  {
   "cell_type": "code",
   "execution_count": 16,
   "id": "e335594d",
   "metadata": {},
   "outputs": [
    {
     "name": "stdout",
     "output_type": "stream",
     "text": [
      "안녕하세요\n"
     ]
    }
   ],
   "source": [
    "hellooo = \"안녕하세요\"\n",
    "print(hellooo[0:5])"
   ]
  },
  {
   "cell_type": "code",
   "execution_count": 17,
   "id": "b1bfbd15",
   "metadata": {},
   "outputs": [
    {
     "name": "stdout",
     "output_type": "stream",
     "text": [
      "5\n"
     ]
    }
   ],
   "source": [
    "print(len(hellooo))"
   ]
  },
  {
   "cell_type": "code",
   "execution_count": 18,
   "id": "dc3bb939",
   "metadata": {},
   "outputs": [
    {
     "name": "stdout",
     "output_type": "stream",
     "text": [
      "# 연습문제\n",
      "\\\\\\\\\n",
      "_ _ _ _ _ _ _ _ \n"
     ]
    }
   ],
   "source": [
    "print(\"# 연습문제\")\n",
    "print(\"\\\\\\\\\\\\\\\\\")\n",
    "print((\"_\"+\" \") * 8)"
   ]
  },
  {
   "cell_type": "code",
   "execution_count": 19,
   "id": "3a70bc79",
   "metadata": {},
   "outputs": [
    {
     "name": "stdout",
     "output_type": "stream",
     "text": [
      "안\n",
      "녕\n",
      "하\n",
      "세\n",
      "요\n"
     ]
    }
   ],
   "source": [
    "print('안녕하세요'[0])\n",
    "print('안녕하세요'[1])\n",
    "print('안녕하세요'[2])\n",
    "print('안녕하세요'[3])\n",
    "print('안녕하세요'[4])\n"
   ]
  },
  {
   "cell_type": "code",
   "execution_count": 20,
   "id": "5fc52ad0",
   "metadata": {},
   "outputs": [
    {
     "name": "stdout",
     "output_type": "stream",
     "text": [
      "안녕하세요\n"
     ]
    }
   ],
   "source": [
    "print('안녕하세요'[:])"
   ]
  },
  {
   "cell_type": "markdown",
   "id": "467679f7",
   "metadata": {},
   "source": [
    "# 챕터 2-2"
   ]
  },
  {
   "cell_type": "code",
   "execution_count": 21,
   "id": "c48735de",
   "metadata": {},
   "outputs": [
    {
     "data": {
      "text/plain": [
       "137080"
      ]
     },
     "execution_count": 21,
     "metadata": {},
     "output_type": "execute_result"
    }
   ],
   "source": [
    "a = int(137080)\n",
    "a"
   ]
  },
  {
   "cell_type": "code",
   "execution_count": 22,
   "id": "fff2c37e",
   "metadata": {},
   "outputs": [
    {
     "data": {
      "text/plain": [
       "80"
      ]
     },
     "execution_count": 22,
     "metadata": {},
     "output_type": "execute_result"
    }
   ],
   "source": [
    "137080 % 500"
   ]
  },
  {
   "cell_type": "code",
   "execution_count": 23,
   "id": "2d765e68",
   "metadata": {},
   "outputs": [
    {
     "name": "stdout",
     "output_type": "stream",
     "text": [
      "오백원\t==> 274 개\n",
      "백원\t==> 0 개\n",
      "오십원\t==> 1 개\n",
      "십원\t==> 3 개\n",
      "잔돈\t==> 0 원\n"
     ]
    }
   ],
   "source": [
    "money = 137080\n",
    "\n",
    "c500 = money // 500\n",
    "money %= 500 # 500으로 나눈 나머지\n",
    "\n",
    "c100 = money // 100\n",
    "money %= 100 # 100으로 나눈 나머지\n",
    "\n",
    "c50 = money // 50\n",
    "money %= 50 # 50으로 나눈 나머지\n",
    "\n",
    "c10 = money // 10\n",
    "money %= 10 # 10으로 나눈 나머지\n",
    "\n",
    "print('오백원\\t==> %d 개'%c500)\n",
    "print('백원\\t==> %d 개'%c100)\n",
    "print('오십원\\t==> %d 개'%c50)\n",
    "print('십원\\t==> %d 개'%c10)\n",
    "print('잔돈\\t==> %d 원'%money)"
   ]
  },
  {
   "cell_type": "code",
   "execution_count": 24,
   "id": "e72a224e",
   "metadata": {
    "scrolled": true
   },
   "outputs": [
    {
     "data": {
      "text/plain": [
       "137080"
      ]
     },
     "execution_count": 24,
     "metadata": {},
     "output_type": "execute_result"
    }
   ],
   "source": [
    "money = 137080\n",
    "money"
   ]
  },
  {
   "cell_type": "code",
   "execution_count": 25,
   "id": "84147b82",
   "metadata": {},
   "outputs": [
    {
     "name": "stdout",
     "output_type": "stream",
     "text": [
      "오백원 개수 : 274\n",
      "백원 개수 : 0\n",
      "오십원 개수 : 1\n",
      "십원 개수 : 3\n"
     ]
    }
   ],
   "source": [
    "a = money // 500\n",
    "money %= 500\n",
    "\n",
    "b = money // 100\n",
    "money %=100\n",
    "\n",
    "c = money // 50\n",
    "money %=50\n",
    "\n",
    "d = money // 10\n",
    "money %=10\n",
    "\n",
    "print('오백원 개수 :', a)\n",
    "print('백원 개수 :', b)\n",
    "print('오십원 개수 :', c)\n",
    "print('십원 개수 :', d)"
   ]
  },
  {
   "cell_type": "markdown",
   "id": "846be220",
   "metadata": {},
   "source": [
    "# 챕터 2-3"
   ]
  },
  {
   "cell_type": "code",
   "execution_count": 26,
   "id": "36d09179",
   "metadata": {},
   "outputs": [
    {
     "name": "stdout",
     "output_type": "stream",
     "text": [
      "5.14159265\n",
      "1.1415926500000002\n",
      "6.2831853\n",
      "1.570796325\n",
      "1.1415926500000002\n",
      "9.869604378534024\n"
     ]
    }
   ],
   "source": [
    "pi = 3.14159265\n",
    "print( pi + 2)\n",
    "print( pi - 2)\n",
    "print( pi * 2)\n",
    "print( pi / 2)\n",
    "print( pi % 2)\n",
    "print( pi *pi)"
   ]
  },
  {
   "cell_type": "code",
   "execution_count": 27,
   "id": "4c4dcbd7",
   "metadata": {},
   "outputs": [
    {
     "data": {
      "text/plain": [
       "20"
      ]
     },
     "execution_count": 27,
     "metadata": {},
     "output_type": "execute_result"
    }
   ],
   "source": [
    "a = 10\n",
    "a+=10\n",
    "a"
   ]
  },
  {
   "cell_type": "markdown",
   "id": "3cbea8a8",
   "metadata": {},
   "source": [
    "### input"
   ]
  },
  {
   "cell_type": "code",
   "execution_count": 28,
   "id": "2e2110b5",
   "metadata": {},
   "outputs": [
    {
     "name": "stdout",
     "output_type": "stream",
     "text": [
      "인사말을 입력하세요하이\n",
      "하이 !!!\n"
     ]
    }
   ],
   "source": [
    "string = input( \"인사말을 입력하세요\" )\n",
    "print(string + \" !!!\")"
   ]
  },
  {
   "cell_type": "markdown",
   "id": "339c2f19",
   "metadata": {},
   "source": [
    "### input = 무조건 str으로 나온다(+ 연산이 되지 않는다)"
   ]
  },
  {
   "cell_type": "code",
   "execution_count": 29,
   "id": "027dc9f5",
   "metadata": {},
   "outputs": [
    {
     "name": "stdout",
     "output_type": "stream",
     "text": [
      "숫자를 입력하세요40\n",
      "40 !!!\n",
      "<class 'str'>\n"
     ]
    }
   ],
   "source": [
    "string = input( \"숫자를 입력하세요\" )\n",
    "print(string + \" !!!\")\n",
    "print(type(string))"
   ]
  },
  {
   "cell_type": "code",
   "execution_count": 30,
   "id": "53693885",
   "metadata": {},
   "outputs": [
    {
     "name": "stdout",
     "output_type": "stream",
     "text": [
      "숫자를 입력하세요50\n",
      "50 !!!\n",
      "<class 'str'>\n"
     ]
    },
    {
     "ename": "TypeError",
     "evalue": "can only concatenate str (not \"int\") to str",
     "output_type": "error",
     "traceback": [
      "\u001b[1;31m---------------------------------------------------------------------------\u001b[0m",
      "\u001b[1;31mTypeError\u001b[0m                                 Traceback (most recent call last)",
      "\u001b[1;32m<ipython-input-30-cda3d84ee18d>\u001b[0m in \u001b[0;36m<module>\u001b[1;34m\u001b[0m\n\u001b[0;32m      3\u001b[0m \u001b[0mprint\u001b[0m\u001b[1;33m(\u001b[0m\u001b[0mtype\u001b[0m\u001b[1;33m(\u001b[0m\u001b[0mstring\u001b[0m\u001b[1;33m)\u001b[0m\u001b[1;33m)\u001b[0m\u001b[1;33m\u001b[0m\u001b[1;33m\u001b[0m\u001b[0m\n\u001b[0;32m      4\u001b[0m \u001b[1;33m\u001b[0m\u001b[0m\n\u001b[1;32m----> 5\u001b[1;33m \u001b[0mprint\u001b[0m\u001b[1;33m(\u001b[0m\u001b[0mstring\u001b[0m \u001b[1;33m+\u001b[0m \u001b[1;36m100\u001b[0m\u001b[1;33m)\u001b[0m\u001b[1;33m\u001b[0m\u001b[1;33m\u001b[0m\u001b[0m\n\u001b[0m",
      "\u001b[1;31mTypeError\u001b[0m: can only concatenate str (not \"int\") to str"
     ]
    }
   ],
   "source": [
    "string = input( \"숫자를 입력하세요\" )\n",
    "print(string + \" !!!\")\n",
    "print(type(string))\n",
    "\n",
    "print(string + 100)"
   ]
  },
  {
   "cell_type": "markdown",
   "id": "2275833e",
   "metadata": {},
   "source": [
    "# 캐스트 (데이터 종류 변환)"
   ]
  },
  {
   "cell_type": "code",
   "execution_count": 32,
   "id": "88d71e3c",
   "metadata": {},
   "outputs": [
    {
     "name": "stdout",
     "output_type": "stream",
     "text": [
      "국어 점수를 입력하세요.80\n",
      "영어 점수를 입력하세요.60\n",
      "수학 점수를 입력하세요.99\n",
      "총합은 :  239\n",
      "평균은 :  79.66666666666667\n",
      "<class 'int'>\n"
     ]
    }
   ],
   "source": [
    "a = input(\"국어 점수를 입력하세요.\")\n",
    "int_a = int(a)\n",
    "b = input(\"영어 점수를 입력하세요.\")\n",
    "int_b = int(b)\n",
    "c = input(\"수학 점수를 입력하세요.\")\n",
    "int_c = int(c)\n",
    "\n",
    "total = int_a + int_b + int_c\n",
    "\n",
    "print(\"총합은 : \", total)\n",
    "\n",
    "\n",
    "average = (int_a + int_b + int_c)/3\n",
    "\n",
    "print(\"평균은 : \", average)\n",
    "\n",
    "print(type(int_a))"
   ]
  },
  {
   "cell_type": "code",
   "execution_count": 33,
   "id": "2ce1278c",
   "metadata": {},
   "outputs": [
    {
     "name": "stdout",
     "output_type": "stream",
     "text": [
      "사과 주문량을 적어주세요 :5\n",
      "배 주문량을 적어주세요 :2\n",
      "총 가격은 9000 입니다.\n"
     ]
    }
   ],
   "source": [
    "apple = input(\"사과 주문량을 적어주세요 :\")\n",
    "\n",
    "pear = input(\"배 주문량을 적어주세요 :\")\n",
    "\n",
    "total = ((int(apple)*1000) + (int(pear)*2000))\n",
    "print('총 가격은',total,\"입니다.\")\n"
   ]
  },
  {
   "cell_type": "markdown",
   "id": "fdf024a8",
   "metadata": {},
   "source": [
    "# 챕터 2-4 숫자와 문자열의 다양한 기능"
   ]
  },
  {
   "cell_type": "code",
   "execution_count": 34,
   "id": "bbbed834",
   "metadata": {},
   "outputs": [
    {
     "name": "stdout",
     "output_type": "stream",
     "text": [
      " 홍길동 안녕하세요\n",
      " 홍길동 안녕\n"
     ]
    }
   ],
   "source": [
    "message = \" {} 안녕하세요\"\n",
    "print(message.format( \"홍길동\" ))\n",
    "\n",
    "message2 = \" {} 안녕\"\n",
    "print(message2.format( \"홍길동\" ))\n"
   ]
  },
  {
   "cell_type": "code",
   "execution_count": 35,
   "id": "949fcf7e",
   "metadata": {},
   "outputs": [
    {
     "name": "stdout",
     "output_type": "stream",
     "text": [
      "사과가 1000원 입니다.\n"
     ]
    }
   ],
   "source": [
    "# 사과가 1000원입니다.\n",
    "# 배가 3000원입니다.\n",
    "\n",
    "fruit1= '사과'\n",
    "price1 = 1000\n",
    "\n",
    "message = '{}가 {}원 입니다.'.format(fruit1,price1)\n",
    "print(message)"
   ]
  },
  {
   "cell_type": "code",
   "execution_count": 36,
   "id": "98e8063e",
   "metadata": {},
   "outputs": [
    {
     "name": "stdout",
     "output_type": "stream",
     "text": [
      "사과   가  1000원 입니다.\n",
      "배    가  3000원 입니다.\n"
     ]
    }
   ],
   "source": [
    "fruit1= '사과'\n",
    "price1 = 1000\n",
    "\n",
    "message = '{:5s}가 {:5d}원 입니다.'\n",
    "print(message.format(fruit1,price1))\n",
    "print(message.format('배',3000))"
   ]
  },
  {
   "cell_type": "code",
   "execution_count": 37,
   "id": "0a944fe6",
   "metadata": {},
   "outputs": [
    {
     "name": "stdout",
     "output_type": "stream",
     "text": [
      "         57.273\n",
      "          57.27\n",
      "           57.3\n"
     ]
    }
   ],
   "source": [
    "output_a = \"{:15.3f}\".format(57.273)\n",
    "output_b = \"{:15.2f}\".format(57.273)\n",
    "output_c = \"{:15.1f}\".format(57.273)\n",
    "\n",
    "print(output_a)\n",
    "print(output_b)\n",
    "print(output_c)\n"
   ]
  },
  {
   "cell_type": "code",
   "execution_count": 38,
   "id": "24952f77",
   "metadata": {},
   "outputs": [
    {
     "name": "stdout",
     "output_type": "stream",
     "text": [
      "HELLO PYTHON\n",
      "hello python\n"
     ]
    }
   ],
   "source": [
    "a = \"hello python\"\n",
    "print(a.upper())\n",
    "#복사를 해서 바꾼다.(대입하는 방식은 아니다.)\n",
    "print(a)"
   ]
  },
  {
   "cell_type": "code",
   "execution_count": 39,
   "id": "8a282cfb",
   "metadata": {},
   "outputs": [
    {
     "name": "stdout",
     "output_type": "stream",
     "text": [
      "HELLO PYTHON\n"
     ]
    }
   ],
   "source": [
    "a = \"hello python\"\n",
    "a = a.upper()\n",
    "print(a)"
   ]
  },
  {
   "cell_type": "markdown",
   "id": "0c115b54",
   "metadata": {},
   "source": [
    "### 공백 제거 함수"
   ]
  },
  {
   "cell_type": "code",
   "execution_count": 40,
   "id": "34910a50",
   "metadata": {},
   "outputs": [],
   "source": [
    "input_a = \"\"\"\n",
    "        안녕하세요\n",
    "    문자열의 함수를 알아봅시다.\n",
    "\n",
    "\"\"\""
   ]
  },
  {
   "cell_type": "code",
   "execution_count": 41,
   "id": "27741da9",
   "metadata": {},
   "outputs": [
    {
     "name": "stdout",
     "output_type": "stream",
     "text": [
      "이름을 입력하세요.\n"
     ]
    },
    {
     "data": {
      "text/plain": [
       "''"
      ]
     },
     "execution_count": 41,
     "metadata": {},
     "output_type": "execute_result"
    }
   ],
   "source": [
    "name = input(\"이름을 입력하세요.\")\n",
    "name.strip()"
   ]
  },
  {
   "cell_type": "code",
   "execution_count": 42,
   "id": "29e5dab8",
   "metadata": {},
   "outputs": [
    {
     "name": "stdout",
     "output_type": "stream",
     "text": [
      "True\n"
     ]
    }
   ],
   "source": [
    "data = \"10\"\n",
    "\n",
    "print(data.isdigit())"
   ]
  },
  {
   "cell_type": "code",
   "execution_count": 43,
   "id": "1711593f",
   "metadata": {},
   "outputs": [
    {
     "name": "stdout",
     "output_type": "stream",
     "text": [
      "4\n"
     ]
    }
   ],
   "source": [
    "output_a = '안녕안녕안뇽안늉'.find('안뇽')\n",
    "print(output_a)"
   ]
  },
  {
   "cell_type": "code",
   "execution_count": 44,
   "id": "db619668",
   "metadata": {},
   "outputs": [
    {
     "name": "stdout",
     "output_type": "stream",
     "text": [
      "False\n",
      "True\n"
     ]
    }
   ],
   "source": [
    "print(\"잘가\" in \"안녕하세요\")\n",
    "print(\"안녕\" in \"안녕하세요\")"
   ]
  },
  {
   "cell_type": "code",
   "execution_count": 45,
   "id": "a8e629cf",
   "metadata": {},
   "outputs": [
    {
     "name": "stdout",
     "output_type": "stream",
     "text": [
      "['10', '20', '30', '40', '50']\n"
     ]
    }
   ],
   "source": [
    "a = \"10 20 30 40 50\".split( \" \" )\n",
    "print(a)"
   ]
  },
  {
   "cell_type": "code",
   "execution_count": 46,
   "id": "79b01c11",
   "metadata": {},
   "outputs": [
    {
     "name": "stdout",
     "output_type": "stream",
     "text": [
      "['10', ' 20', ' 30', ' 40', ' 50']\n"
     ]
    }
   ],
   "source": [
    "a = \"10: 20: 30: 40: 50\".split( \":\" )\n",
    "print(a)"
   ]
  },
  {
   "cell_type": "markdown",
   "id": "5f773f61",
   "metadata": {},
   "source": [
    "# 문제"
   ]
  },
  {
   "cell_type": "markdown",
   "id": "5a88b33b",
   "metadata": {},
   "source": [
    "1) lab03_1.py\n",
    "\n",
    "hello = \" tvN JTBC mbc Kbs tv조선 채널A \" \n",
    "\n",
    "위 문자열을 모두 대문자로 출력하세요. \n",
    "위 문자열을 모두 소문자로 출력하세요. \n",
    "위 문자열에서 \"tv\" 문자열은 총몇번 나오는가? \n",
    "위 문자열에서 \"JTBC\" 문자열은 몇번째 위치에 있는가? \n",
    "위 문자열에서 \"JTBC\" 문자열 위치부터 끝까지 출력하시오.\n",
    "위 문자열에서 왼쪽 공백 문자열을 제거하고 출력하시오.\n",
    "위 문자열에서 \"tv\" 문자열을 \"티브\"라는 문자열로 변경하여 출력하시오.\n",
    "위 문자열을 길이를 출력하시오.\n",
    "\n",
    "2) lab03_2.py\n",
    "\n",
    "다음과 같이 학생의 시험점수가 있습니다.  \n",
    "\n",
    "data1 =\"홍길동:80:90:70\" \n",
    "data2 =\"김영희:90:90:90\"  \n",
    "\n",
    "각 학생의 이름과 점수의 합, 평균을 \n",
    "출력하는 프로그램을 작성하세요.\n",
    " \n",
    "\n",
    "3)   lab03_3.py\n",
    "\n",
    "str = \"workspace\"  일때 \n",
    "다음과 같이 출력되도록 프로그램(lab03_3.py) 을 작성합니다. \n",
    " \n",
    " 1).str문자열 중 space 문자열은 몇번 인덱스에 있는가? \n",
    " 2).str문자열 중  k 문자열은 몇번나오는가? \n",
    " 3).str문자열 중 \"space\"를 \"공간\"이라고 바꾸어 출력합니다. \n"
   ]
  },
  {
   "cell_type": "markdown",
   "id": "5a05fa09",
   "metadata": {},
   "source": [
    "## 1번"
   ]
  },
  {
   "cell_type": "code",
   "execution_count": 47,
   "id": "90a7df48",
   "metadata": {},
   "outputs": [
    {
     "name": "stdout",
     "output_type": "stream",
     "text": [
      " TVN JTBC MBC KBS TV조선 채널A \n",
      " tvn jtbc mbc kbs tv조선 채널a \n",
      "2\n",
      "5\n",
      "JTBC mbc Kbs tv조선 채널A \n",
      "tvN JTBC mbc Kbs tv조선 채널A \n",
      " 티브N JTBC mbc Kbs 티브조선 채널A \n",
      "27\n"
     ]
    }
   ],
   "source": [
    "hello = \" tvN JTBC mbc Kbs tv조선 채널A \"\n",
    "print(hello.upper( ))\n",
    "print(hello.lower( ))\n",
    "print(hello.count(\"tv\"))\n",
    "print(hello.rfind(\"JTBC\"))\n",
    "print(hello[5:])\n",
    "print(hello.lstrip())\n",
    "print(hello.replace(\"tv\", \"티브\"))\n",
    "print(len(hello))"
   ]
  },
  {
   "cell_type": "markdown",
   "id": "461e1fd4",
   "metadata": {},
   "source": [
    "## 2번"
   ]
  },
  {
   "cell_type": "code",
   "execution_count": 49,
   "id": "b36c3601",
   "metadata": {},
   "outputs": [
    {
     "name": "stdout",
     "output_type": "stream",
     "text": [
      "['80', '90', '70']\n",
      "['90', '90', '90']\n",
      "['홍길동', '80', '90', '70']\n",
      "홍길동의 점수 합은 240이고 평균은 80.00입니다. \n"
     ]
    }
   ],
   "source": [
    "data1 =\"홍길동:80:90:70\" \n",
    "data2 =\"김영희:90:90:90\"  \n",
    "\n",
    "data_1 = data1.split( \":\")\n",
    "data_2 = data2.split( \":\")\n",
    "\n",
    "data_1_1 = data_1[1:]\n",
    "data_2_2 = data_2[1:]\n",
    "\n",
    "print(data_1_1)\n",
    "print(data_2_2)\n",
    "\n",
    "alldata = data1.split(\":\")\n",
    "print(alldata)\n",
    "name = alldata[0]\n",
    "score1 = int( alldata[1] )\n",
    "score2 = int( alldata[2] )\n",
    "score3 = int( alldata[3] )\n",
    "\n",
    "sum1 = score1 + score2 + score3\n",
    "avg1 = sum1 / 3\n",
    "\n",
    "message = \"{}의 점수 합은 {:3d}이고 평균은 {:.2f}입니다. \" \n",
    "print(  message.format(name,sum1,avg1)  )"
   ]
  },
  {
   "cell_type": "markdown",
   "id": "d4771f41",
   "metadata": {},
   "source": [
    "## 3번"
   ]
  },
  {
   "cell_type": "code",
   "execution_count": 50,
   "id": "0b2115fb",
   "metadata": {},
   "outputs": [],
   "source": [
    "str = \"workspace\""
   ]
  },
  {
   "cell_type": "code",
   "execution_count": 51,
   "id": "f936aa02",
   "metadata": {},
   "outputs": [
    {
     "name": "stdout",
     "output_type": "stream",
     "text": [
      "4\n",
      "1\n",
      "work공간\n"
     ]
    }
   ],
   "source": [
    "str = \"workspace\"\n",
    "\n",
    "print(str.find(\"space\"))\n",
    "print(str.count(\"k\"))\n",
    "print(str.replace(\"space\",\"공간\"))"
   ]
  },
  {
   "cell_type": "markdown",
   "id": "1b120739",
   "metadata": {},
   "source": [
    "# 정답"
   ]
  },
  {
   "cell_type": "code",
   "execution_count": 52,
   "id": "ea7851aa",
   "metadata": {},
   "outputs": [
    {
     "name": "stdout",
     "output_type": "stream",
     "text": [
      " TVN JTBC MBC KBS TV조선 채널A \n",
      " tvn jtbc mbc kbs tv조선 채널a \n",
      "5\n",
      "JTBC mbc Kbs tv조선 채널A \n",
      "tvN JTBC mbc Kbs tv조선 채널A \n",
      " 티브N JTBC mbc Kbs 티브조선 채널A \n",
      "27\n"
     ]
    }
   ],
   "source": [
    "hello = \" tvN JTBC mbc Kbs tv조선 채널A \" \n",
    "\n",
    "#위 문자열을 모두 대문자로 출력하세요. \n",
    "print(hello.upper()) \n",
    "#위 문자열을 모두 소문자로 출력하세요. \n",
    "print(hello.lower())  \n",
    "#위 문자열에서 \"JTBC\" 문자열은 몇번째 위치에 있는가? \n",
    "print(hello.find(\"JTBC\")) \n",
    "#위 문자열에서 \"JTBC\" 문자열 위치부터 끝까지 출력하시오.\n",
    "start = hello.find(\"JTBC\")\n",
    "print(hello[start : ] ) \n",
    "#위 문자열에서 왼쪽 공백 문자열을 제거하고 출력하시오.\n",
    "print(hello.lstrip())  #\n",
    "\n",
    "#위 문자열에서 \"tv\" 문자열을 \"티브\"라는 문자열로 변경하여 출력하시오. \n",
    "print(hello.replace(\"tv\",\"티브\"))\n",
    " \n",
    "#위 문자열을 길이를 출력하시오.\n",
    "print(len(hello)) \n",
    " "
   ]
  },
  {
   "cell_type": "code",
   "execution_count": 53,
   "id": "781c6e0d",
   "metadata": {},
   "outputs": [
    {
     "name": "stdout",
     "output_type": "stream",
     "text": [
      "홍길동의 점수 합은 240이고 평균은 80.00입니다. \n",
      "김영희의 점수 합은 270이고 평균은 90.00입니다. \n"
     ]
    }
   ],
   "source": [
    "data1 =\"홍길동:80:90:70\" \n",
    "data2 =\"김영희:90:90:90\"  \n",
    "\n",
    "#각 학생의 이름과 점수의 합, 평균을 \n",
    "#출력하는 프로그램을 작성하세요.\n",
    "\n",
    "name = data1[:3]\n",
    "score1 = int( data1[4:6] )\n",
    "score2 = int( data1[7:9] )\n",
    "score3 = int( data1[10:] )\n",
    "sum1 = score1+score2+score3 \n",
    "avg1 = sum1/3 \n",
    "\n",
    "print(  message.format(name,sum1,avg1)  )\n",
    "    \n",
    "name = data2[:3]\n",
    "score1 = int( data2[4:6] )\n",
    "score2 = int( data2[7:9] )\n",
    "score3 = int( data2[10:] )\n",
    "sum1 = score1+score2+score3 \n",
    "avg1 = sum1/3 \n",
    "\n",
    "message = \"{}의 점수 합은 {:3d}이고 평균은 {:.2f}입니다. \" \n",
    "print(  message.format(name,sum1,avg1)  )"
   ]
  },
  {
   "cell_type": "code",
   "execution_count": 54,
   "id": "3c74d261",
   "metadata": {},
   "outputs": [
    {
     "name": "stdout",
     "output_type": "stream",
     "text": [
      "4\n"
     ]
    }
   ],
   "source": [
    "str = \"workspace\"  \n",
    "# str문자열 중 space 문자열은 몇번 인덱스에 있는가?  \n",
    "print (str.find(\"space\"))"
   ]
  },
  {
   "cell_type": "code",
   "execution_count": null,
   "id": "a2656c6c",
   "metadata": {},
   "outputs": [],
   "source": []
  }
 ],
 "metadata": {
  "kernelspec": {
   "display_name": "Python 3",
   "language": "python",
   "name": "python3"
  },
  "language_info": {
   "codemirror_mode": {
    "name": "ipython",
    "version": 3
   },
   "file_extension": ".py",
   "mimetype": "text/x-python",
   "name": "python",
   "nbconvert_exporter": "python",
   "pygments_lexer": "ipython3",
   "version": "3.8.8"
  }
 },
 "nbformat": 4,
 "nbformat_minor": 5
}
