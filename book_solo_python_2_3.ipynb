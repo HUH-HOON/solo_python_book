{
 "cells": [
  {
   "cell_type": "markdown",
   "id": "f4dec312",
   "metadata": {},
   "source": [
    "# 챕터 2-1 자료형과 문자열"
   ]
  },
  {
   "cell_type": "code",
   "execution_count": 1,
   "id": "105abb46",
   "metadata": {
    "scrolled": true
   },
   "outputs": [
    {
     "name": "stdout",
     "output_type": "stream",
     "text": [
      "허훈\n"
     ]
    }
   ],
   "source": [
    "print(\"허훈\")"
   ]
  },
  {
   "cell_type": "code",
   "execution_count": 2,
   "id": "40c6fe34",
   "metadata": {
    "scrolled": true
   },
   "outputs": [
    {
     "name": "stdout",
     "output_type": "stream",
     "text": [
      "안녕하세요\n",
      "<class 'str'>\n",
      "<class 'int'>\n"
     ]
    }
   ],
   "source": [
    "print('안녕하세요')\n",
    "print(type('안녕하세요'))\n",
    "print(type(270))"
   ]
  },
  {
   "cell_type": "markdown",
   "id": "93919674",
   "metadata": {},
   "source": [
    "### print 을 해야 모두 출력해준다."
   ]
  },
  {
   "cell_type": "code",
   "execution_count": 3,
   "id": "3af3f207",
   "metadata": {},
   "outputs": [
    {
     "name": "stdout",
     "output_type": "stream",
     "text": [
      "<class 'int'>\n"
     ]
    }
   ],
   "source": [
    "('안녕하세요')\n",
    "(type('안녕하세요'))\n",
    "print(type(270))"
   ]
  },
  {
   "cell_type": "code",
   "execution_count": 4,
   "id": "4a626f22",
   "metadata": {},
   "outputs": [
    {
     "name": "stdout",
     "output_type": "stream",
     "text": [
      "안녕하세요 저는 허훈입니다.\n"
     ]
    }
   ],
   "source": [
    "print ( '안녕하세요'+ \" \"+ '저는'+ \" \"+ '허훈입니다.')"
   ]
  },
  {
   "cell_type": "code",
   "execution_count": 5,
   "id": "3b12a370",
   "metadata": {},
   "outputs": [
    {
     "name": "stdout",
     "output_type": "stream",
     "text": [
      "'배불러서' 졸려요.\n"
     ]
    }
   ],
   "source": [
    "print ( \"'배불러서' 졸려요.\" )"
   ]
  },
  {
   "cell_type": "code",
   "execution_count": 6,
   "id": "6ce0a383",
   "metadata": {},
   "outputs": [
    {
     "name": "stdout",
     "output_type": "stream",
     "text": [
      "\t'배불러서' \n",
      " 졸려요.\n"
     ]
    }
   ],
   "source": [
    "print ( \"\\t'배불러서' \\n 졸려요.\" )"
   ]
  },
  {
   "cell_type": "markdown",
   "id": "c0ab7255",
   "metadata": {},
   "source": [
    "\\t 탭 <br>\n",
    "\\n 줄바꾸기"
   ]
  },
  {
   "cell_type": "code",
   "execution_count": 7,
   "id": "ad1c27c4",
   "metadata": {},
   "outputs": [
    {
     "name": "stdout",
     "output_type": "stream",
     "text": [
      "동해물과 백두산이 마르고 닳도록\n",
      "하느님이 보우하사 우리나라만세\n",
      "(후렴)\n",
      "가\n",
      "나\n",
      "다\n",
      "라\n",
      "\n",
      "무궁화 삼천리 화려강산 대한사람 대한으로 길이 보전하세\n"
     ]
    }
   ],
   "source": [
    "print (\"\"\"동해물과 백두산이 마르고 닳도록\n",
    "하느님이 보우하사 우리나라만세\n",
    "(후렴)\n",
    "가\n",
    "나\n",
    "다\n",
    "라\n",
    "\n",
    "무궁화 삼천리 화려강산 대한사람 대한으로 길이 보전하세\"\"\")"
   ]
  },
  {
   "cell_type": "code",
   "execution_count": 8,
   "id": "98208436",
   "metadata": {},
   "outputs": [
    {
     "name": "stdout",
     "output_type": "stream",
     "text": [
      "안녕하세요1\n"
     ]
    }
   ],
   "source": [
    "print(\"안녕하세요\"+\"1\")"
   ]
  },
  {
   "cell_type": "code",
   "execution_count": 9,
   "id": "0a6f960e",
   "metadata": {},
   "outputs": [
    {
     "name": "stdout",
     "output_type": "stream",
     "text": [
      "안녕하세요 하이\n"
     ]
    }
   ],
   "source": [
    "print(\"안녕하세요\"+\" \"+\"하이\")"
   ]
  },
  {
   "cell_type": "code",
   "execution_count": 10,
   "id": "57f62454",
   "metadata": {},
   "outputs": [
    {
     "name": "stdout",
     "output_type": "stream",
     "text": [
      "안녕하세요 안녕하세요 안녕하세요 \n"
     ]
    }
   ],
   "source": [
    "print((\"안녕하세요\" + \" \" )* 3)"
   ]
  },
  {
   "cell_type": "code",
   "execution_count": 11,
   "id": "20b76bbf",
   "metadata": {},
   "outputs": [
    {
     "name": "stdout",
     "output_type": "stream",
     "text": [
      "ㅋㅋㄹㅃㅃ ㅋㅋㄹㅃㅃ ㅋㅋㄹㅃㅃ ㅋㅋㄹㅃㅃ ㅋㅋㄹㅃㅃ \n"
     ]
    }
   ],
   "source": [
    "print((\"ㅋㅋㄹㅃㅃ\" + \" \") * 5)"
   ]
  },
  {
   "cell_type": "code",
   "execution_count": 12,
   "id": "344cac47",
   "metadata": {},
   "outputs": [
    {
     "name": "stdout",
     "output_type": "stream",
     "text": [
      "안\n",
      "녕\n",
      "하\n",
      "세\n",
      "요\n"
     ]
    }
   ],
   "source": [
    "print(\"안녕하세요\"[0])\n",
    "print(\"안녕하세요\"[1])\n",
    "print(\"안녕하세요\"[2])\n",
    "print(\"안녕하세요\"[3])\n",
    "print(\"안녕하세요\"[4])"
   ]
  },
  {
   "cell_type": "code",
   "execution_count": 13,
   "id": "3b516873",
   "metadata": {},
   "outputs": [
    {
     "name": "stdout",
     "output_type": "stream",
     "text": [
      "안\n",
      "요\n",
      "세\n",
      "하\n",
      "녕\n"
     ]
    }
   ],
   "source": [
    "print(\"안녕하세요\"[0])\n",
    "print(\"안녕하세요\"[-1])\n",
    "print(\"안녕하세요\"[-2])\n",
    "print(\"안녕하세요\"[-3])\n",
    "print(\"안녕하세요\"[-4])"
   ]
  },
  {
   "cell_type": "code",
   "execution_count": 14,
   "id": "36294865",
   "metadata": {},
   "outputs": [
    {
     "name": "stdout",
     "output_type": "stream",
     "text": [
      "안녕하세요\n"
     ]
    }
   ],
   "source": [
    "print('안녕하세요'[0:5])"
   ]
  },
  {
   "cell_type": "code",
   "execution_count": 15,
   "id": "f5589aa7",
   "metadata": {},
   "outputs": [
    {
     "name": "stdout",
     "output_type": "stream",
     "text": [
      "녕하세요\n"
     ]
    }
   ],
   "source": [
    "print('안녕하세요'[1:])"
   ]
  },
  {
   "cell_type": "code",
   "execution_count": 16,
   "id": "e335594d",
   "metadata": {},
   "outputs": [
    {
     "name": "stdout",
     "output_type": "stream",
     "text": [
      "안녕하세요\n"
     ]
    }
   ],
   "source": [
    "hellooo = \"안녕하세요\"\n",
    "print(hellooo[0:5])"
   ]
  },
  {
   "cell_type": "code",
   "execution_count": 17,
   "id": "b1bfbd15",
   "metadata": {},
   "outputs": [
    {
     "name": "stdout",
     "output_type": "stream",
     "text": [
      "5\n"
     ]
    }
   ],
   "source": [
    "print(len(hellooo))"
   ]
  },
  {
   "cell_type": "code",
   "execution_count": 18,
   "id": "dc3bb939",
   "metadata": {},
   "outputs": [
    {
     "name": "stdout",
     "output_type": "stream",
     "text": [
      "# 연습문제\n",
      "\\\\\\\\\n",
      "_ _ _ _ _ _ _ _ \n"
     ]
    }
   ],
   "source": [
    "print(\"# 연습문제\")\n",
    "print(\"\\\\\\\\\\\\\\\\\")\n",
    "print((\"_\"+\" \") * 8)"
   ]
  },
  {
   "cell_type": "code",
   "execution_count": 19,
   "id": "3a70bc79",
   "metadata": {},
   "outputs": [
    {
     "name": "stdout",
     "output_type": "stream",
     "text": [
      "안\n",
      "녕\n",
      "하\n",
      "세\n",
      "요\n"
     ]
    }
   ],
   "source": [
    "print('안녕하세요'[0])\n",
    "print('안녕하세요'[1])\n",
    "print('안녕하세요'[2])\n",
    "print('안녕하세요'[3])\n",
    "print('안녕하세요'[4])\n"
   ]
  },
  {
   "cell_type": "code",
   "execution_count": 20,
   "id": "5fc52ad0",
   "metadata": {},
   "outputs": [
    {
     "name": "stdout",
     "output_type": "stream",
     "text": [
      "안녕하세요\n"
     ]
    }
   ],
   "source": [
    "print('안녕하세요'[:])"
   ]
  },
  {
   "cell_type": "markdown",
   "id": "467679f7",
   "metadata": {},
   "source": [
    "# 챕터 2-2"
   ]
  },
  {
   "cell_type": "code",
   "execution_count": 21,
   "id": "c48735de",
   "metadata": {},
   "outputs": [
    {
     "data": {
      "text/plain": [
       "137080"
      ]
     },
     "execution_count": 21,
     "metadata": {},
     "output_type": "execute_result"
    }
   ],
   "source": [
    "a = int(137080)\n",
    "a"
   ]
  },
  {
   "cell_type": "code",
   "execution_count": 22,
   "id": "fff2c37e",
   "metadata": {},
   "outputs": [
    {
     "data": {
      "text/plain": [
       "80"
      ]
     },
     "execution_count": 22,
     "metadata": {},
     "output_type": "execute_result"
    }
   ],
   "source": [
    "137080 % 500"
   ]
  },
  {
   "cell_type": "code",
   "execution_count": 23,
   "id": "2d765e68",
   "metadata": {},
   "outputs": [
    {
     "name": "stdout",
     "output_type": "stream",
     "text": [
      "오백원\t==> 274 개\n",
      "백원\t==> 0 개\n",
      "오십원\t==> 1 개\n",
      "십원\t==> 3 개\n",
      "잔돈\t==> 0 원\n"
     ]
    }
   ],
   "source": [
    "money = 137080\n",
    "\n",
    "c500 = money // 500\n",
    "money %= 500 # 500으로 나눈 나머지\n",
    "\n",
    "c100 = money // 100\n",
    "money %= 100 # 100으로 나눈 나머지\n",
    "\n",
    "c50 = money // 50\n",
    "money %= 50 # 50으로 나눈 나머지\n",
    "\n",
    "c10 = money // 10\n",
    "money %= 10 # 10으로 나눈 나머지\n",
    "\n",
    "print('오백원\\t==> %d 개'%c500)\n",
    "print('백원\\t==> %d 개'%c100)\n",
    "print('오십원\\t==> %d 개'%c50)\n",
    "print('십원\\t==> %d 개'%c10)\n",
    "print('잔돈\\t==> %d 원'%money)"
   ]
  },
  {
   "cell_type": "code",
   "execution_count": 24,
   "id": "e72a224e",
   "metadata": {
    "scrolled": true
   },
   "outputs": [
    {
     "data": {
      "text/plain": [
       "137080"
      ]
     },
     "execution_count": 24,
     "metadata": {},
     "output_type": "execute_result"
    }
   ],
   "source": [
    "money = 137080\n",
    "money"
   ]
  },
  {
   "cell_type": "code",
   "execution_count": 25,
   "id": "84147b82",
   "metadata": {},
   "outputs": [
    {
     "name": "stdout",
     "output_type": "stream",
     "text": [
      "오백원 개수 : 274\n",
      "백원 개수 : 0\n",
      "오십원 개수 : 1\n",
      "십원 개수 : 3\n"
     ]
    }
   ],
   "source": [
    "a = money // 500\n",
    "money %= 500\n",
    "\n",
    "b = money // 100\n",
    "money %=100\n",
    "\n",
    "c = money // 50\n",
    "money %=50\n",
    "\n",
    "d = money // 10\n",
    "money %=10\n",
    "\n",
    "print('오백원 개수 :', a)\n",
    "print('백원 개수 :', b)\n",
    "print('오십원 개수 :', c)\n",
    "print('십원 개수 :', d)"
   ]
  },
  {
   "cell_type": "markdown",
   "id": "846be220",
   "metadata": {},
   "source": [
    "# 챕터 2-3"
   ]
  },
  {
   "cell_type": "code",
   "execution_count": 26,
   "id": "36d09179",
   "metadata": {},
   "outputs": [
    {
     "name": "stdout",
     "output_type": "stream",
     "text": [
      "5.14159265\n",
      "1.1415926500000002\n",
      "6.2831853\n",
      "1.570796325\n",
      "1.1415926500000002\n",
      "9.869604378534024\n"
     ]
    }
   ],
   "source": [
    "pi = 3.14159265\n",
    "print( pi + 2)\n",
    "print( pi - 2)\n",
    "print( pi * 2)\n",
    "print( pi / 2)\n",
    "print( pi % 2)\n",
    "print( pi *pi)"
   ]
  },
  {
   "cell_type": "code",
   "execution_count": 27,
   "id": "4c4dcbd7",
   "metadata": {},
   "outputs": [
    {
     "data": {
      "text/plain": [
       "20"
      ]
     },
     "execution_count": 27,
     "metadata": {},
     "output_type": "execute_result"
    }
   ],
   "source": [
    "a = 10\n",
    "a+=10\n",
    "a"
   ]
  },
  {
   "cell_type": "markdown",
   "id": "3cbea8a8",
   "metadata": {},
   "source": [
    "### input"
   ]
  },
  {
   "cell_type": "code",
   "execution_count": 28,
   "id": "2e2110b5",
   "metadata": {},
   "outputs": [
    {
     "name": "stdout",
     "output_type": "stream",
     "text": [
      "인사말을 입력하세요hi\n",
      "hi !!!\n"
     ]
    }
   ],
   "source": [
    "string = input( \"인사말을 입력하세요\" )\n",
    "print(string + \" !!!\")"
   ]
  },
  {
   "cell_type": "markdown",
   "id": "339c2f19",
   "metadata": {},
   "source": [
    "### input = 무조건 str으로 나온다(+ 연산이 되지 않는다)"
   ]
  },
  {
   "cell_type": "code",
   "execution_count": 29,
   "id": "027dc9f5",
   "metadata": {},
   "outputs": [
    {
     "name": "stdout",
     "output_type": "stream",
     "text": [
      "숫자를 입력하세요12\n",
      "12 !!!\n",
      "<class 'str'>\n"
     ]
    }
   ],
   "source": [
    "string = input( \"숫자를 입력하세요\" )\n",
    "print(string + \" !!!\")\n",
    "print(type(string))"
   ]
  },
  {
   "cell_type": "code",
   "execution_count": 30,
   "id": "53693885",
   "metadata": {},
   "outputs": [
    {
     "name": "stdout",
     "output_type": "stream",
     "text": [
      "숫자를 입력하세요12\n",
      "12 !!!\n",
      "<class 'str'>\n"
     ]
    },
    {
     "ename": "TypeError",
     "evalue": "can only concatenate str (not \"int\") to str",
     "output_type": "error",
     "traceback": [
      "\u001b[1;31m---------------------------------------------------------------------------\u001b[0m",
      "\u001b[1;31mTypeError\u001b[0m                                 Traceback (most recent call last)",
      "\u001b[1;32m<ipython-input-30-cda3d84ee18d>\u001b[0m in \u001b[0;36m<module>\u001b[1;34m\u001b[0m\n\u001b[0;32m      3\u001b[0m \u001b[0mprint\u001b[0m\u001b[1;33m(\u001b[0m\u001b[0mtype\u001b[0m\u001b[1;33m(\u001b[0m\u001b[0mstring\u001b[0m\u001b[1;33m)\u001b[0m\u001b[1;33m)\u001b[0m\u001b[1;33m\u001b[0m\u001b[1;33m\u001b[0m\u001b[0m\n\u001b[0;32m      4\u001b[0m \u001b[1;33m\u001b[0m\u001b[0m\n\u001b[1;32m----> 5\u001b[1;33m \u001b[0mprint\u001b[0m\u001b[1;33m(\u001b[0m\u001b[0mstring\u001b[0m \u001b[1;33m+\u001b[0m \u001b[1;36m100\u001b[0m\u001b[1;33m)\u001b[0m\u001b[1;33m\u001b[0m\u001b[1;33m\u001b[0m\u001b[0m\n\u001b[0m",
      "\u001b[1;31mTypeError\u001b[0m: can only concatenate str (not \"int\") to str"
     ]
    }
   ],
   "source": [
    "string = input( \"숫자를 입력하세요\" )\n",
    "print(string + \" !!!\")\n",
    "print(type(string))\n",
    "\n",
    "print(string + 100)"
   ]
  },
  {
   "cell_type": "markdown",
   "id": "2275833e",
   "metadata": {},
   "source": [
    "# 캐스트 (데이터 종류 변환)"
   ]
  },
  {
   "cell_type": "code",
   "execution_count": 31,
   "id": "88d71e3c",
   "metadata": {},
   "outputs": [
    {
     "name": "stdout",
     "output_type": "stream",
     "text": [
      "국어 점수를 입력하세요.50\n",
      "영어 점수를 입력하세요.80\n",
      "수학 점수를 입력하세요.100\n",
      "<class 'int'>\n",
      "<class 'int'>\n",
      "<class 'int'>\n",
      "총합은 :  230\n",
      "평균은 :  76.66666666666667\n",
      "<class 'int'>\n"
     ]
    }
   ],
   "source": [
    "a = input(\"국어 점수를 입력하세요.\")\n",
    "int_a = int(a)\n",
    "b = input(\"영어 점수를 입력하세요.\")\n",
    "int_b = int(b)\n",
    "c = input(\"수학 점수를 입력하세요.\")\n",
    "int_c = int(c)\n",
    "\n",
    "print(type(int_a))\n",
    "print(type(int_b))\n",
    "print(type(int_c))\n",
    "\n",
    "total = int_a + int_b + int_c\n",
    "\n",
    "print(\"총합은 : \", total)\n",
    "\n",
    "\n",
    "average = (int_a + int_b + int_c)/3\n",
    "\n",
    "print(\"평균은 : \", average)\n",
    "\n",
    "print(type(int_a))"
   ]
  },
  {
   "cell_type": "code",
   "execution_count": 32,
   "id": "2ce1278c",
   "metadata": {},
   "outputs": [
    {
     "name": "stdout",
     "output_type": "stream",
     "text": [
      "사과 주문량을 적어주세요 :3\n",
      "배 주문량을 적어주세요 :2\n",
      "총 가격은 7000 입니다.\n"
     ]
    }
   ],
   "source": [
    "apple = input(\"사과 주문량을 적어주세요 :\")\n",
    "\n",
    "pear = input(\"배 주문량을 적어주세요 :\")\n",
    "\n",
    "total = ((int(apple)*1000) + (int(pear)*2000))\n",
    "print('총 가격은',total,\"입니다.\")\n"
   ]
  },
  {
   "cell_type": "code",
   "execution_count": null,
   "id": "3646c22c",
   "metadata": {},
   "outputs": [],
   "source": []
  }
 ],
 "metadata": {
  "kernelspec": {
   "display_name": "Python 3",
   "language": "python",
   "name": "python3"
  },
  "language_info": {
   "codemirror_mode": {
    "name": "ipython",
    "version": 3
   },
   "file_extension": ".py",
   "mimetype": "text/x-python",
   "name": "python",
   "nbconvert_exporter": "python",
   "pygments_lexer": "ipython3",
   "version": "3.8.8"
  }
 },
 "nbformat": 4,
 "nbformat_minor": 5
}
