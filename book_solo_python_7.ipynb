{
 "cells": [
  {
   "cell_type": "markdown",
   "id": "4ed6932f",
   "metadata": {},
   "source": [
    "# 모듈"
   ]
  },
  {
   "cell_type": "code",
   "execution_count": 1,
   "id": "547f1406",
   "metadata": {},
   "outputs": [],
   "source": [
    "import math"
   ]
  },
  {
   "cell_type": "code",
   "execution_count": 2,
   "id": "24a8fb38",
   "metadata": {},
   "outputs": [
    {
     "name": "stdout",
     "output_type": "stream",
     "text": [
      "0.5403023058681398\n",
      "2\n"
     ]
    }
   ],
   "source": [
    "print(math.cos(1))\n",
    "print(math.floor(2.5))"
   ]
  },
  {
   "cell_type": "code",
   "execution_count": 3,
   "id": "3f488a19",
   "metadata": {},
   "outputs": [
    {
     "name": "stdout",
     "output_type": "stream",
     "text": [
      "0.5403023058681398\n",
      "2\n"
     ]
    }
   ],
   "source": [
    "from math import cos, floor\n",
    "\n",
    "print(cos(1))\n",
    "print(floor(2.3))"
   ]
  },
  {
   "cell_type": "code",
   "execution_count": 4,
   "id": "d33aa002",
   "metadata": {},
   "outputs": [],
   "source": [
    "import math as ma"
   ]
  },
  {
   "cell_type": "code",
   "execution_count": 6,
   "id": "0a6b1ca1",
   "metadata": {},
   "outputs": [
    {
     "name": "stdout",
     "output_type": "stream",
     "text": [
      "0.5403023058681398\n",
      "2\n"
     ]
    }
   ],
   "source": [
    "print(ma.cos(1))\n",
    "print(ma.floor(2.3))"
   ]
  },
  {
   "cell_type": "code",
   "execution_count": 7,
   "id": "47e86bf5",
   "metadata": {},
   "outputs": [],
   "source": [
    "import random"
   ]
  },
  {
   "cell_type": "code",
   "execution_count": 15,
   "id": "76564256",
   "metadata": {},
   "outputs": [
    {
     "name": "stdout",
     "output_type": "stream",
     "text": [
      "0.5031881387998858\n"
     ]
    }
   ],
   "source": [
    "print(random.random())"
   ]
  },
  {
   "cell_type": "code",
   "execution_count": 16,
   "id": "09ca32e6",
   "metadata": {},
   "outputs": [
    {
     "name": "stdout",
     "output_type": "stream",
     "text": [
      "15.849534854726032\n"
     ]
    }
   ],
   "source": [
    "print(random.uniform(10,20))"
   ]
  },
  {
   "cell_type": "code",
   "execution_count": 52,
   "id": "1a9a148a",
   "metadata": {},
   "outputs": [
    {
     "name": "stdout",
     "output_type": "stream",
     "text": [
      "2\n"
     ]
    }
   ],
   "source": [
    "print(random.randrange(10))"
   ]
  },
  {
   "cell_type": "code",
   "execution_count": 65,
   "id": "5ba43014",
   "metadata": {},
   "outputs": [
    {
     "name": "stdout",
     "output_type": "stream",
     "text": [
      "3\n"
     ]
    }
   ],
   "source": [
    "print(random.choice([1,2,3,4,5]))"
   ]
  },
  {
   "cell_type": "code",
   "execution_count": 68,
   "id": "b99b04bc",
   "metadata": {},
   "outputs": [
    {
     "name": "stdout",
     "output_type": "stream",
     "text": [
      "[4, 2, 1, 5, 3]\n"
     ]
    }
   ],
   "source": [
    "data = [1,2,3,4,5]\n",
    "random.shuffle(data)\n",
    "print(data)"
   ]
  },
  {
   "cell_type": "code",
   "execution_count": 69,
   "id": "7a33e3e9",
   "metadata": {},
   "outputs": [
    {
     "name": "stdout",
     "output_type": "stream",
     "text": [
      "[4, 3]\n"
     ]
    }
   ],
   "source": [
    "print(random.sample([1,2,3,4,5],  k =2))"
   ]
  },
  {
   "cell_type": "code",
   "execution_count": 75,
   "id": "7a3580d5",
   "metadata": {},
   "outputs": [
    {
     "name": "stdout",
     "output_type": "stream",
     "text": [
      "nt\n",
      "C:\\git\\python_src\n",
      "['.ipynb_checkpoints', '2021_06_02.ipynb', '2021_06_02_CardGame.ipynb', '2021_06_02_CardGame.zip', 'basic.txt', 'book_solo_python_3.ipynb', 'book_solo_python_4.ipynb', 'book_solo_python_5.ipynb', 'book_solo_python_6.ipynb', 'book_solo_python_6_home.ipynb', 'book_solo_python_7.ipynb', 'book_solo_python_8.ipynb', 'copy.png', 'ex_01.ipynb', 'foo.txt', 'Hoon_movie.ipynb', 'icon.png', 'info.txt', 'jae_movie.ipynb', 'lab08.ipynb', 'momo.txt', 'my_movie.txt', 'm_movie.txt', 'output.txt', '컴퓨터 프로그래밍 기초.ipynb', '허훈_2021-06-01.ipynb']\n"
     ]
    }
   ],
   "source": [
    "import os\n",
    "\n",
    "print(os.name)  #운영체계 이름\n",
    "print(os.getcwd())\n",
    "\n",
    "print( os.listdir())"
   ]
  },
  {
   "cell_type": "code",
   "execution_count": 76,
   "id": "da1542f7",
   "metadata": {},
   "outputs": [],
   "source": [
    "os.mkdir(\"Hello\")"
   ]
  },
  {
   "cell_type": "code",
   "execution_count": 77,
   "id": "b36d9deb",
   "metadata": {},
   "outputs": [],
   "source": [
    "os.rmdir(\"Hello\")"
   ]
  },
  {
   "cell_type": "code",
   "execution_count": 85,
   "id": "cfa6ada5",
   "metadata": {},
   "outputs": [
    {
     "name": "stdout",
     "output_type": "stream",
     "text": [
      "2021-06-04 15:39:56.327574\n",
      "2021\n",
      "6\n",
      "4\n"
     ]
    }
   ],
   "source": [
    "import datetime\n",
    "\n",
    "n = datetime.datetime.now()\n",
    "print(n)\n",
    "print(n.year)\n",
    "print(n.month)\n",
    "print(n.day)"
   ]
  },
  {
   "cell_type": "code",
   "execution_count": 88,
   "id": "f104fa9d",
   "metadata": {},
   "outputs": [
    {
     "name": "stdout",
     "output_type": "stream",
     "text": [
      "2초 따단\n"
     ]
    }
   ],
   "source": [
    "import time\n",
    "\n",
    "time.sleep(2)\n",
    "print(\"2초 따단\")"
   ]
  }
 ],
 "metadata": {
  "kernelspec": {
   "display_name": "Python 3",
   "language": "python",
   "name": "python3"
  },
  "language_info": {
   "codemirror_mode": {
    "name": "ipython",
    "version": 3
   },
   "file_extension": ".py",
   "mimetype": "text/x-python",
   "name": "python",
   "nbconvert_exporter": "python",
   "pygments_lexer": "ipython3",
   "version": "3.8.8"
  }
 },
 "nbformat": 4,
 "nbformat_minor": 5
}
