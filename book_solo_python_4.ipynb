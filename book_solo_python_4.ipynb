{
 "cells": [
  {
   "cell_type": "markdown",
   "id": "765c5486",
   "metadata": {},
   "source": [
    "# 데이터 구조\n",
    "\n",
    "\n",
    "리스트 [ 10, \"a\",  20 ] 인덱스 있음 <br>\n",
    "딕셔너리 {\"1\":100}<br>\n",
    "<br>\n",
    "셋 {1,1,1} 집합(중복허용안됨, "
   ]
  },
  {
   "cell_type": "markdown",
   "id": "abf1ac69",
   "metadata": {},
   "source": [
    "## 04-1 리스트와 반복문"
   ]
  },
  {
   "cell_type": "code",
   "execution_count": 6,
   "id": "e863e05e",
   "metadata": {},
   "outputs": [
    {
     "name": "stdout",
     "output_type": "stream",
     "text": [
      "[273, 32, 103, '문자열']\n",
      "32\n",
      "[32, 103]\n"
     ]
    }
   ],
   "source": [
    "list_a = [273, 32, 103, \"문자열\"]\n",
    "print(list_a)\n",
    "print(list_a[1])\n",
    "print(list_a[1:3])"
   ]
  },
  {
   "cell_type": "code",
   "execution_count": 7,
   "id": "8eb03e00",
   "metadata": {},
   "outputs": [
    {
     "data": {
      "text/plain": [
       "['변경', 32, 103, '문자열']"
      ]
     },
     "execution_count": 7,
     "metadata": {},
     "output_type": "execute_result"
    }
   ],
   "source": [
    "list_a[0] = \"변경\"\n",
    "list_a"
   ]
  },
  {
   "cell_type": "code",
   "execution_count": 10,
   "id": "05f7e0d0",
   "metadata": {},
   "outputs": [
    {
     "data": {
      "text/plain": [
       "'문'"
      ]
     },
     "execution_count": 10,
     "metadata": {},
     "output_type": "execute_result"
    }
   ],
   "source": [
    "list_a[-1][0]"
   ]
  },
  {
   "cell_type": "code",
   "execution_count": 11,
   "id": "01b356dd",
   "metadata": {},
   "outputs": [
    {
     "data": {
      "text/plain": [
       "4"
      ]
     },
     "execution_count": 11,
     "metadata": {},
     "output_type": "execute_result"
    }
   ],
   "source": [
    "list_b = [[1,2,3],[4,3,2]]\n",
    "list_b[1][0]"
   ]
  },
  {
   "cell_type": "code",
   "execution_count": 13,
   "id": "656eb9e1",
   "metadata": {},
   "outputs": [
    {
     "name": "stdout",
     "output_type": "stream",
     "text": [
      "['변경', 32, 103, '문자열', 45, 45]\n"
     ]
    }
   ],
   "source": [
    "list_a.append(45)\n",
    "print(list_a)"
   ]
  },
  {
   "cell_type": "code",
   "execution_count": 15,
   "id": "5bdd39ee",
   "metadata": {},
   "outputs": [
    {
     "name": "stdout",
     "output_type": "stream",
     "text": [
      "['변경', 32, 10, 103, '문자열', 45, 45]\n"
     ]
    }
   ],
   "source": [
    "list_a.insert(2,10)\n",
    "print(list_a)"
   ]
  },
  {
   "cell_type": "code",
   "execution_count": 17,
   "id": "2677defd",
   "metadata": {},
   "outputs": [
    {
     "name": "stdout",
     "output_type": "stream",
     "text": [
      "['변경', 32, 10, 103, '문자열', 45, 45, [1, 2, 3], [4, 3, 2], [1, 2, 3], [4, 3, 2]]\n"
     ]
    }
   ],
   "source": [
    "list_a.extend(list_b)\n",
    "print(list_a)"
   ]
  },
  {
   "cell_type": "code",
   "execution_count": 18,
   "id": "65b53d1b",
   "metadata": {},
   "outputs": [
    {
     "data": {
      "text/plain": [
       "[0, 2, 3, 4, 5]"
      ]
     },
     "execution_count": 18,
     "metadata": {},
     "output_type": "execute_result"
    }
   ],
   "source": [
    "list_a = [0,1,2,3,4,5]\n",
    "del list_a[1]\n",
    "list_a"
   ]
  },
  {
   "cell_type": "code",
   "execution_count": 19,
   "id": "252db65a",
   "metadata": {},
   "outputs": [
    {
     "data": {
      "text/plain": [
       "[0, 2, 4, 5]"
      ]
     },
     "execution_count": 19,
     "metadata": {},
     "output_type": "execute_result"
    }
   ],
   "source": [
    "list_a.pop(2)\n",
    "list_a"
   ]
  },
  {
   "cell_type": "code",
   "execution_count": 22,
   "id": "c6f13906",
   "metadata": {},
   "outputs": [
    {
     "name": "stdout",
     "output_type": "stream",
     "text": [
      "[1, 1, 2]\n"
     ]
    }
   ],
   "source": [
    "list_c = [1,2,1,2]\n",
    "list_c.remove(2)\n",
    "print(list_c)"
   ]
  },
  {
   "cell_type": "code",
   "execution_count": 27,
   "id": "34b6544c",
   "metadata": {},
   "outputs": [
    {
     "name": "stdout",
     "output_type": "stream",
     "text": [
      "True\n",
      "False\n",
      "False\n"
     ]
    }
   ],
   "source": [
    "list_e = [273,32,103,57,52]\n",
    "print( 273 in list_e)\n",
    "print( 24 in list_e)\n",
    "print( 273 not in list_e)"
   ]
  },
  {
   "cell_type": "markdown",
   "id": "7172c2d7",
   "metadata": {},
   "source": [
    "## 반복문"
   ]
  },
  {
   "cell_type": "code",
   "execution_count": 31,
   "id": "1b9da456",
   "metadata": {},
   "outputs": [
    {
     "name": "stdout",
     "output_type": "stream",
     "text": [
      "0 출력\n",
      "1 출력\n",
      "2 출력\n",
      "3 출력\n",
      "4 출력\n",
      "5 출력\n",
      "6 출력\n",
      "7 출력\n",
      "8 출력\n",
      "9 출력\n"
     ]
    }
   ],
   "source": [
    "for i in range(10) : \n",
    "    print(i,\"출력\")"
   ]
  },
  {
   "cell_type": "code",
   "execution_count": 33,
   "id": "6a551c7a",
   "metadata": {},
   "outputs": [
    {
     "name": "stdout",
     "output_type": "stream",
     "text": [
      "273\n",
      "32\n",
      "103\n",
      "57\n",
      "52\n"
     ]
    }
   ],
   "source": [
    "array = [273, 32,103, 57, 52 ]\n",
    "for element in array:\n",
    "    print(element)"
   ]
  },
  {
   "cell_type": "code",
   "execution_count": 38,
   "id": "fee5d854",
   "metadata": {},
   "outputs": [
    {
     "name": "stdout",
     "output_type": "stream",
     "text": [
      "5 * 1 = 5\n",
      "5 * 2 = 10\n",
      "5 * 3 = 15\n",
      "5 * 4 = 20\n",
      "5 * 5 = 25\n",
      "5 * 6 = 30\n",
      "5 * 7 = 35\n",
      "5 * 8 = 40\n",
      "5 * 9 = 45\n"
     ]
    }
   ],
   "source": [
    "num =5\n",
    "for i in range(1,10) :\n",
    "    print(num, \"*\", i,\"=\", (num*i))"
   ]
  },
  {
   "cell_type": "markdown",
   "id": "84b217c8",
   "metadata": {},
   "source": [
    "# 4-2 딕셔너리와 반복문"
   ]
  },
  {
   "cell_type": "code",
   "execution_count": 40,
   "id": "63371564",
   "metadata": {},
   "outputs": [
    {
     "name": "stdout",
     "output_type": "stream",
     "text": [
      "{'name': '어벤져스 엔드게임', 'type': '히어로 무비'}\n"
     ]
    }
   ],
   "source": [
    "dict_a = {\n",
    "    \"name\" : \"어벤져스 엔드게임\",\n",
    "    \"type\" : \"히어로 무비\"\n",
    "}\n",
    "print(dict_a)"
   ]
  },
  {
   "cell_type": "code",
   "execution_count": 41,
   "id": "3f793372",
   "metadata": {},
   "outputs": [
    {
     "name": "stdout",
     "output_type": "stream",
     "text": [
      "어벤져스 엔드게임\n"
     ]
    }
   ],
   "source": [
    "print(dict_a[\"name\"])"
   ]
  },
  {
   "cell_type": "code",
   "execution_count": 42,
   "id": "dfbcb666",
   "metadata": {},
   "outputs": [
    {
     "name": "stdout",
     "output_type": "stream",
     "text": [
      "{'name': '어벤져스 엔드게임', 'type': '히어로 무비', 'actor': 'aaa'}\n"
     ]
    }
   ],
   "source": [
    "dict_a[\"actor\"] = \"aaa\"\n",
    "print(dict_a)\n",
    "\n",
    "# 존재하지 않으면 추가한다."
   ]
  },
  {
   "cell_type": "code",
   "execution_count": 43,
   "id": "bf9a27e4",
   "metadata": {},
   "outputs": [
    {
     "name": "stdout",
     "output_type": "stream",
     "text": [
      "{'name': '어벤져스 엔드게임', 'type': '히어로 무비', 'actor': 'bbb'}\n"
     ]
    }
   ],
   "source": [
    "dict_a[\"actor\"] = \"bbb\"\n",
    "print(dict_a)\n",
    "\n",
    "# 존재하면 갱신한다."
   ]
  },
  {
   "cell_type": "code",
   "execution_count": 44,
   "id": "de73e42d",
   "metadata": {},
   "outputs": [
    {
     "data": {
      "text/plain": [
       "True"
      ]
     },
     "execution_count": 44,
     "metadata": {},
     "output_type": "execute_result"
    }
   ],
   "source": [
    "'name' in dict_a"
   ]
  },
  {
   "cell_type": "code",
   "execution_count": 46,
   "id": "bc70634a",
   "metadata": {},
   "outputs": [
    {
     "name": "stdout",
     "output_type": "stream",
     "text": [
      ">접근하고자 하는 키 :name\n",
      "어벤져스 엔드게임\n"
     ]
    }
   ],
   "source": [
    "key= input(\">접근하고자 하는 키 :\")\n",
    "\n",
    "if key in dict_a:\n",
    "    print(dict_a[key])\n",
    "else:\n",
    "    print(\"존재하지 않는 키입니다.\")"
   ]
  },
  {
   "cell_type": "code",
   "execution_count": null,
   "id": "2286f523",
   "metadata": {},
   "outputs": [],
   "source": []
  }
 ],
 "metadata": {
  "kernelspec": {
   "display_name": "Python 3",
   "language": "python",
   "name": "python3"
  },
  "language_info": {
   "codemirror_mode": {
    "name": "ipython",
    "version": 3
   },
   "file_extension": ".py",
   "mimetype": "text/x-python",
   "name": "python",
   "nbconvert_exporter": "python",
   "pygments_lexer": "ipython3",
   "version": "3.8.8"
  }
 },
 "nbformat": 4,
 "nbformat_minor": 5
}
